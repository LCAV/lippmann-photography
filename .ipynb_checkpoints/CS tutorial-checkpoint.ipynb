{
 "cells": [
  {
   "cell_type": "markdown",
   "metadata": {},
   "source": [
    "## Introduction to Compressed Sensing"
   ]
  },
  {
   "cell_type": "markdown",
   "metadata": {},
   "source": [
    "### Simple problem\n",
    "\n",
    "$x$ is a $3$-sparse vector of size $100$ and $A$ is a random binary sampling matrix of size $M \\times N$. Given $y = Ax$, we estimate $x$ with \n",
    "\n",
    "$$\\hat{x} = \\arg\\min_x \\| y - Ax \\|_2^2 + \\gamma \\| x \\|_1$$"
   ]
  },
  {
   "cell_type": "code",
   "execution_count": 2,
   "metadata": {
    "collapsed": false
   },
   "outputs": [
    {
     "data": {
      "image/png": "[encoded data removed]",
      "text/plain": [
       "<matplotlib.figure.Figure at 0x113f8fcf8>"
      ]
     },
     "metadata": {},
     "output_type": "display_data"
    },
    {
     "data": {
      "image/png": "[encoded data removed]",
      "text/plain": [
       "<matplotlib.figure.Figure at 0x1150ea630>"
      ]
     },
     "metadata": {},
     "output_type": "display_data"
    }
   ],
   "source": [
    "import numpy as np\n",
    "from cvxpy import *\n",
    "import matplotlib.pyplot as plt\n",
    "%matplotlib inline\n",
    "\n",
    "M = 30\n",
    "N = 100\n",
    "\n",
    "#define a sparse vector\n",
    "x = np.zeros(N)\n",
    "x[13] = 3\n",
    "x[34] = 5\n",
    "x[37] = 1\n",
    "\n",
    "#define a random matrix\n",
    "A = np.random.randint(0,2, [M, N])\n",
    "\n",
    "#compute y\n",
    "y = np.dot(A, x)\n",
    "\n",
    "#add noise (comment it if you want the noiseless case)\n",
    "sigma = 0.5\n",
    "y += sigma*np.random.random(M)\n",
    "\n",
    "# gamma must be positive due to DCP rules.\n",
    "gamma = 1\n",
    "\n",
    "# Construct the problem.\n",
    "x_hat = Variable(N)\n",
    "error = sum_squares(A*x_hat - y)\n",
    "obj = Minimize(error + gamma*norm(x_hat, 1))\n",
    "prob = Problem(obj)\n",
    "\n",
    "prob.solve()\n",
    "\n",
    "#plot solution\n",
    "plt.figure()\n",
    "plt.stem(x_hat.value)\n",
    "plt.title('CS Solution')\n",
    "plt.show()\n",
    "\n",
    "#plot ground truth\n",
    "plt.figure()\n",
    "plt.stem(x)\n",
    "plt.title('Ground truth')\n",
    "plt.show()"
   ]
  },
  {
   "cell_type": "markdown",
   "metadata": {},
   "source": [
    "### Sparsity in the wavelet domain\n",
    "\n",
    "Often, the vector $x$ is not sparse in the primal domain, but could be sparse in a different domain. For instance, it is well-known that images are spare in the wavelet domain.\n",
    "\n",
    "$$x = W^T \\alpha$$\n",
    "\n",
    "where $W$ is an orthonormal basis containing the wavelet basis functions and $\\alpha$ is the sparse vector of wavelet coefficients."
   ]
  },
  {
   "cell_type": "code",
   "execution_count": 3,
   "metadata": {
    "collapsed": false
   },
   "outputs": [
    {
     "data": {
      "image/png": "[encoded data removed]",
      "text/plain": [
       "<matplotlib.figure.Figure at 0x113f7bdd8>"
      ]
     },
     "metadata": {},
     "output_type": "display_data"
    },
    {
     "data": {
      "image/png": "[encoded data removed]",
      "text/plain": [
       "<matplotlib.figure.Figure at 0x104548f60>"
      ]
     },
     "metadata": {},
     "output_type": "display_data"
    }
   ],
   "source": [
    "import scipy as sp\n",
    "\n",
    "M = 30\n",
    "N = 100\n",
    "\n",
    "#define a sparse vector\n",
    "alpha = np.zeros(N)\n",
    "alpha[13] = 3\n",
    "alpha[34] = 5\n",
    "alpha[37] = 1\n",
    "\n",
    "#generate a random orthonormal matrix\n",
    "W = sp.linalg.orth(np.random.random([N,N]))\n",
    "\n",
    "#define a random sampling matrix\n",
    "A = np.random.randint(0,2, [M, N])\n",
    "B = np.dot(A, W)\n",
    "\n",
    "#compute y = AWalpha\n",
    "y = np.dot(B, alpha)\n",
    "\n",
    "#add noise (comment it if you want the noiseless case)\n",
    "sigma = 0.5\n",
    "y += sigma*np.random.random(M)\n",
    "\n",
    "# gamma must be positive due to DCP rules.\n",
    "gamma = 1\n",
    "\n",
    "# Construct the problem.\n",
    "alpha_hat = Variable(N)\n",
    "error = sum_squares(B*alpha_hat - y)\n",
    "obj = Minimize(error + gamma*norm(alpha_hat, 1))\n",
    "prob = Problem(obj)\n",
    "\n",
    "prob.solve()\n",
    "\n",
    "#plot solution\n",
    "plt.figure()\n",
    "plt.stem(alpha_hat.value)\n",
    "plt.title('CS Solution')\n",
    "plt.show()\n",
    "\n",
    "#plot ground truth\n",
    "plt.figure()\n",
    "plt.stem(alpha)\n",
    "plt.title('Ground truth')\n",
    "plt.show()\n"
   ]
  },
  {
   "cell_type": "markdown",
   "metadata": {},
   "source": [
    "## TV norm experiments"
   ]
  },
  {
   "cell_type": "code",
   "execution_count": 4,
   "metadata": {
    "collapsed": true
   },
   "outputs": [],
   "source": [
    "def upsample(s, n, phase=0):\n",
    "    \"\"\"Increase sampling rate by integer factor n  with included offset phase.\n",
    "    \"\"\"\n",
    "    return np.roll(np.kron(s, np.r_[1, np.zeros(n-1)]), phase)"
   ]
  },
  {
   "cell_type": "code",
   "execution_count": 195,
   "metadata": {
    "collapsed": false
   },
   "outputs": [
    {
     "name": "stdout",
     "output_type": "stream",
     "text": [
      "(8000, 8000)\n",
      "(8000,)\n",
      "(1600, 5)\n",
      "(8000, 1)\n"
     ]
    },
    {
     "data": {
      "image/png": "[encoded data removed]",
      "text/plain": [
       "<matplotlib.figure.Figure at 0x12532e5c0>"
      ]
     },
     "metadata": {},
     "output_type": "display_data"
    },
    {
     "data": {
      "image/png": "[encoded data removed]",
      "text/plain": [
       "<matplotlib.figure.Figure at 0x1263209b0>"
      ]
     },
     "metadata": {},
     "output_type": "display_data"
    },
    {
     "data": {
      "image/png": "[encoded data removed]",
      "text/plain": [
       "<matplotlib.figure.Figure at 0x11e5e8c50>"
      ]
     },
     "metadata": {},
     "output_type": "display_data"
    },
    {
     "data": {
      "image/png": "[encoded data removed]",
      "text/plain": [
       "<matplotlib.figure.Figure at 0x11f584d30>"
      ]
     },
     "metadata": {},
     "output_type": "display_data"
    },
    {
     "data": {
      "image/png": "[encoded data removed]",
      "text/plain": [
       "<matplotlib.figure.Figure at 0x11da3f9b0>"
      ]
     },
     "metadata": {},
     "output_type": "display_data"
    },
    {
     "data": {
      "image/png": "[encoded data removed]",
      "text/plain": [
       "<matplotlib.figure.Figure at 0x11904d470>"
      ]
     },
     "metadata": {},
     "output_type": "display_data"
    },
    {
     "data": {
      "image/png": "[encoded data removed]",
      "text/plain": [
       "<matplotlib.figure.Figure at 0x11e155860>"
      ]
     },
     "metadata": {},
     "output_type": "display_data"
    },
    {
     "data": {
      "image/png": "[encoded data removed]",
      "text/plain": [
       "<matplotlib.figure.Figure at 0x124dc8a20>"
      ]
     },
     "metadata": {},
     "output_type": "display_data"
    },
    {
     "data": {
      "image/png": "[encoded data removed]",
      "text/plain": [
       "<matplotlib.figure.Figure at 0x1208a3b00>"
      ]
     },
     "metadata": {},
     "output_type": "display_data"
    },
    {
     "data": {
      "image/png": "[encoded data removed]",
      "text/plain": [
       "<matplotlib.figure.Figure at 0x1208593c8>"
      ]
     },
     "metadata": {},
     "output_type": "display_data"
    }
   ],
   "source": [
    "from skimage import io\n",
    "from skimage import color\n",
    "\n",
    "K = 5\n",
    "N = 40\n",
    "phi = 0.0   #shift due to the light\n",
    "\n",
    "diffuse = io.imread('images/original_40_40.png')\n",
    "diffuse = color.rgb2gray(diffuse)\n",
    "\n",
    "specular = np.zeros([N,N])\n",
    "specular[20:, 20:] = 1\n",
    "\n",
    "shifts = np.linspace(0, np.pi-np.pi/4, K)\n",
    "\n",
    "images = np.zeros([N, N, K])\n",
    "\n",
    "for k, shift in enumerate(shifts):\n",
    "    \n",
    "    #make sure we clip the specularity and maintain the same exposure level\n",
    "    image = np.minimum(diffuse + specular*(np.cos(phi+shift))**2, 1)\n",
    "    images[:,:,k] = image\n",
    "    \n",
    "    plt.figure()\n",
    "    plt.imshow(image, cmap='gray', interpolation='none')\n",
    "    plt.axis('off');\n",
    "        \n",
    "A = []\n",
    "identity = np.eye(K*N*N)\n",
    "#identity = identity[::K]\n",
    "\n",
    "for k in range(K):\n",
    "    if len(A) == 0:\n",
    "        A = identity[::K]\n",
    "    else:\n",
    "        A = np.vstack([A, identity[k::K]])\n",
    "        \n",
    "print(A.shape)\n",
    "\n",
    "x = np.reshape(images, [N*N,K])\n",
    "\n",
    "#measurements\n",
    "y = np.dot(A, images.flatten())\n",
    "\n",
    "print(y.shape)\n",
    "print(x.shape)\n",
    "\n",
    "# gamma must be positive due to DCP rules.\n",
    "gamma = 1000\n",
    "\n",
    "# Construct the problem.\n",
    "#x_hat = Variable(N*N, K)\n",
    "#obj = Minimize(tv(reshape(x_hat[:,0], N,N), reshape(x_hat[:,1], N,N), reshape(x_hat[:,2], N,N), reshape(x_hat[:,3], N,N)) )\n",
    "#constraints = [A*vec(x_hat) == y]\n",
    "\n",
    "#prob = Problem(obj)\n",
    "#prob = Problem(obj, constraints)\n",
    "#prob.solve(verbose=False, solver=SCS)\n",
    "\n",
    "x_hat = Variable(N*N*K)\n",
    "#obj = Minimize(tv(reshape(x_hat, K, N*N)) + gamma*sum_squares(A*x_hat - y) )\n",
    "obj = Minimize(tv(x_hat) + gamma*sum_squares(A*x_hat - y) )\n",
    "#obj = Minimize(tv(x_hat))\n",
    "#obj = Minimize(tv(reshape(x_hat, K*N, N)) )\n",
    "#constraints = [A*vec(x_hat) == y]\n",
    "\n",
    "#prob = Problem(obj, constraints)\n",
    "prob = Problem(obj)\n",
    "prob.solve(verbose=False, solver=SCS)\n",
    "\n",
    "\n",
    "print(x_hat.value.shape)\n",
    "x_hat = np.array(x_hat.value)\n",
    "\n",
    "x_hat_3D = x_hat.reshape((N,N,K))\n",
    "for k in range(K):\n",
    "    image = x_hat_3D[:,:,k]\n",
    "    \n",
    "    plt.figure()\n",
    "    plt.imshow(image, cmap='gray', interpolation='none')\n",
    "    plt.axis('off');\n",
    "\n"
   ]
  },
  {
   "cell_type": "code",
   "execution_count": 194,
   "metadata": {
    "collapsed": false
   },
   "outputs": [
    {
     "name": "stdout",
     "output_type": "stream",
     "text": [
      "[[ 0.35355339  0.35355339  0.35355339  0.35355339  0.35355339  0.35355339\n",
      "   0.35355339  0.35355339]\n",
      " [ 0.35355339  0.35355339  0.35355339  0.35355339 -0.35355339 -0.35355339\n",
      "  -0.35355339 -0.35355339]\n",
      " [ 0.5         0.5        -0.5        -0.5         0.          0.         -0.\n",
      "  -0.        ]\n",
      " [ 0.          0.         -0.         -0.          0.5         0.5        -0.5\n",
      "  -0.5       ]\n",
      " [ 0.70710678 -0.70710678  0.         -0.          0.         -0.          0.\n",
      "  -0.        ]\n",
      " [ 0.         -0.          0.70710678 -0.70710678  0.         -0.          0.\n",
      "  -0.        ]\n",
      " [ 0.         -0.          0.         -0.          0.70710678 -0.70710678\n",
      "   0.         -0.        ]\n",
      " [ 0.         -0.          0.         -0.          0.         -0.\n",
      "   0.70710678 -0.70710678]]\n"
     ]
    }
   ],
   "source": [
    "def haar(n):\n",
    "    h = [1]\n",
    "    if n > 2:\n",
    "        h = haar(n/2)\n",
    "\n",
    "    #calculate upper haar part\n",
    "    h_n = np.kron(h, [1,1])\n",
    "    \n",
    "    #calculate lower haar part\n",
    "    if len(h) < 2:\n",
    "        h_i = np.kron([1], [1,-1]) \n",
    "    else:\n",
    "        h_i = np.kron(np.eye(len(h)), [1,-1]) \n",
    "    \n",
    "    #combine parts\n",
    "    h = np.vstack([h_n, h_i])\n",
    "    return h/np.sqrt(2)\n",
    "\n",
    "def sampling_matrix(N, K):\n",
    "    A = []\n",
    "    identity = np.eye(K*N*N)\n",
    "    #identity = identity[::K]\n",
    "\n",
    "    for k in range(K):\n",
    "        if len(A) == 0:\n",
    "            A = identity[::K]\n",
    "        else:\n",
    "            A = np.vstack([A, identity[k::K]])\n",
    "        \n",
    "    return A\n",
    "\n",
    "def generate_images(path, N, K, phi, display=False):\n",
    "    \n",
    "    diffuse = io.imread(path)\n",
    "    diffuse = color.rgb2gray(diffuse)\n",
    "\n",
    "    specular = np.zeros([N,N])\n",
    "    specular[20:, 20:] = 1\n",
    "\n",
    "    shifts = np.linspace(0, np.pi-np.pi/4, K)\n",
    "\n",
    "    images = np.zeros([K, N, N])\n",
    "\n",
    "    for k, shift in enumerate(shifts):\n",
    "\n",
    "        #make sure we clip the specularity and maintain the same exposure level\n",
    "        image = np.minimum(diffuse + specular*(np.cos(phi+shift))**2, 1)\n",
    "        images[k,:,:] = image\n",
    "        \n",
    "        if display:\n",
    "            plt.figure()\n",
    "            plt.imshow(image, cmap='gray', interpolation='none')\n",
    "            plt.axis('off');\n",
    "        \n",
    "    return images, diffuse, specular\n",
    "\n",
    "def generate_images_from_alpha(N, K, phi, alpha_d, alpha_s, W, display=False):\n",
    "    \n",
    "    diffuse  = np.dot(W, alpha_d).reshape([N, N])\n",
    "    specular = np.dot(W, alpha_s).reshape([N, N])\n",
    "\n",
    "    shifts = np.linspace(0, np.pi-np.pi/4, K)\n",
    "    images = np.zeros([K, N, N])\n",
    "\n",
    "    for k, shift in enumerate(shifts):\n",
    "\n",
    "        #make sure we clip the specularity and maintain the same exposure level\n",
    "        image = np.minimum(diffuse + specular*(np.cos(phi+shift))**2, 1)\n",
    "        images[k,:,:] = image\n",
    "        \n",
    "        if display:\n",
    "            plt.figure()\n",
    "            plt.imshow(image, cmap='gray', interpolation='none')\n",
    "            plt.axis('off');\n",
    "        \n",
    "    return images, diffuse, specular\n",
    "\n",
    "def compute_C(N, K, phi):\n",
    "    \n",
    "    shifts = np.linspace(0, np.pi-np.pi/4, K)\n",
    "    \n",
    "    C = []\n",
    "    for k, shift in enumerate(shifts):\n",
    "        if len(C) == 0:\n",
    "            C = np.hstack([ np.eye(N**2), np.cos(phi+shift)**2*np.eye(N**2) ])\n",
    "        else:\n",
    "            Cnew = np.hstack([ np.eye(N**2), np.cos(phi+shift)**2*np.eye(N**2) ])\n",
    "            C    = np.vstack([C, Cnew])\n",
    "            \n",
    "    return C\n",
    "                \n",
    "print(haar(8))"
   ]
  },
  {
   "cell_type": "code",
   "execution_count": null,
   "metadata": {
    "collapsed": false
   },
   "outputs": [],
   "source": [
    "import scipy as sp\n",
    "\n",
    "K  = 4\n",
    "N  = 64\n",
    "N2 = N**2\n",
    "phi = 0.0\n",
    "\n",
    "#generate a Haar matrix\n",
    "W = haar(N2)\n",
    "\n",
    "#define the sampling matrix\n",
    "A = sampling_matrix(N, K)\n",
    "#B = np.dot(A, np.tile(W, [K ,1]))\n",
    "B = np.dot(A, np.kron(np.eye(K), W))\n",
    "\n",
    "#compute y = A*x\n",
    "images, diffuse, spec = generate_images('images/original_64_64.png', N, K, phi)\n",
    "x       = images.flatten()\n",
    "alpha_d = np.dot(W.T, diffuse.flatten())\n",
    "alpha_s = np.dot(W.T, spec.flatten())\n",
    "\n",
    "#make sure we are sparse in the wavelet domain\n",
    "#alpha_d = np.zeros(N2)\n",
    "#alpha_s = np.zeros(N2)\n",
    "\n",
    "#alpha_d[12] = 2\n",
    "#alpha_d[120] = 4\n",
    "#alpha_d[587] = 0.5\n",
    "#alpha_d[286] = 6\n",
    "#alpha_s[121] = 3\n",
    "#alpha_s[985] = 5\n",
    "#alpha_s[101] = 1\n",
    "\n",
    "#images, diffuse, spec = generate_images_from_alpha(N, K, phi, alpha_d, alpha_s, W)\n",
    "\n",
    "alpha = np.hstack([alpha_d, alpha_s])\n",
    "\n",
    "#measurements\n",
    "y = np.dot(A, x)\n",
    "\n",
    "#model matrix\n",
    "C = compute_C(N, K, phi)\n",
    "S = np.dot(B, C)\n",
    "\n",
    "#add noise (comment it if you want the noiseless case)\n",
    "#sigma = 0.1\n",
    "#y += sigma*np.random.random(len(y))\n",
    "\n",
    "# gamma must be positive\n",
    "gamma = 0.1\n",
    "\n",
    "# Construct the problem\n",
    "alpha_hat = Variable(2*N2)\n",
    "error = sum_squares(S*alpha_hat - y)\n",
    "obj = Minimize(error + gamma*norm(alpha_hat, 1))\n",
    "obj = Minimize(error)\n",
    "prob = Problem(obj)\n",
    "\n",
    "prob.solve()\n",
    "\n",
    "#plot solution\n",
    "plt.figure()\n",
    "plt.stem(alpha_hat.value)\n",
    "plt.title('CS Solution')\n",
    "plt.show()\n",
    "\n",
    "#plot ground truth\n",
    "plt.figure()\n",
    "plt.stem(alpha) \n",
    "plt.title('Ground truth')\n",
    "plt.show()\n",
    "\n",
    "diffuse_hat = np.reshape(np.dot(W, alpha_hat.value[:N2]), [N, N])\n",
    "spec_hat = np.reshape(np.dot(W, alpha_hat.value[N2:]), [N, N])\n",
    "\n",
    "#plot all the images \n",
    "f, ((ax1, ax2), (ax3, ax4)) = plt.subplots(2, 2)\n",
    "\n",
    "ax1.imshow(diffuse, cmap='gray', interpolation='none')\n",
    "ax1.axis('off')\n",
    "ax1.set_title('diffuse ground truth')\n",
    "\n",
    "ax2.imshow(diffuse, cmap='gray', interpolation='none')\n",
    "#ax2.imshow(y.reshape([K,N,N])[1,:,:], cmap='gray', interpolation='none')\n",
    "ax2.axis('off');\n",
    "ax2.set_title('diffuse est')\n",
    "\n",
    "ax3.imshow(spec, cmap='gray', interpolation='none')\n",
    "ax3.axis('off');\n",
    "ax3.set_title('specular ground truth')\n",
    "\n",
    "ax4.imshow(spec_hat, cmap='gray', interpolation='none')\n",
    "ax4.axis('off');\n",
    "ax4.set_title('specular est')\n"
   ]
  },
  {
   "cell_type": "code",
   "execution_count": null,
   "metadata": {
    "collapsed": true
   },
   "outputs": [],
   "source": [
    "import scipy as sp\n",
    "\n",
    "K  = 4\n",
    "N  = 32\n",
    "N2 = N**2\n",
    "phi = 0.0\n",
    "\n",
    "#generate a Haar matrix\n",
    "W = haar(N2)\n",
    "\n",
    "#define the sampling matrix\n",
    "A = sampling_matrix(N, K)\n",
    "#B = np.dot(A, np.tile(W, [K ,1]))\n",
    "B = np.dot(A, np.kron(np.eye(K), W))\n",
    "\n",
    "#compute y = A*x\n",
    "images, diffuse, spec = generate_images('images/original_32_32.png', N, K, phi)\n",
    "x       = images.flatten()\n",
    "alpha_d = np.dot(W.T, diffuse.flatten())\n",
    "alpha_s = np.dot(W.T, spec.flatten())\n",
    "\n",
    "#make sure we are sparse in the wavelet domain\n",
    "#alpha_d = np.zeros(N2)\n",
    "#alpha_s = np.zeros(N2)\n",
    "\n",
    "#alpha_d[12] = 2\n",
    "#alpha_d[120] = 4\n",
    "#alpha_d[587] = 0.5\n",
    "#alpha_d[286] = 6\n",
    "#alpha_s[121] = 3\n",
    "#alpha_s[985] = 5\n",
    "#alpha_s[101] = 1\n",
    "\n",
    "#images, diffuse, spec = generate_images_from_alpha(N, K, phi, alpha_d, alpha_s, W)\n",
    "\n",
    "alpha = np.hstack([alpha_d, alpha_s])\n",
    "\n",
    "#measurements\n",
    "y = np.dot(A, x)\n",
    "\n",
    "#model matrix\n",
    "C = compute_C(N, K, phi)\n",
    "S = np.dot(B, C)\n",
    "\n",
    "#add noise (comment it if you want the noiseless case)\n",
    "#sigma = 0.1\n",
    "#y += sigma*np.random.random(len(y))\n",
    "\n",
    "# gamma must be positive\n",
    "gamma = 0.1\n",
    "\n",
    "# Construct the problem\n",
    "alpha_hat = Variable(2*N2)\n",
    "error = sum_squares(S*alpha_hat - y)\n",
    "obj = Minimize(error + gamma*norm(alpha_hat, 1))\n",
    "obj = Minimize(error)\n",
    "prob = Problem(obj)\n",
    "\n",
    "prob.solve()\n",
    "\n",
    "#plot solution\n",
    "plt.figure()\n",
    "plt.stem(alpha_hat.value)\n",
    "plt.title('CS Solution')\n",
    "plt.show()\n",
    "\n",
    "#plot ground truth\n",
    "plt.figure()\n",
    "plt.stem(alpha) \n",
    "plt.title('Ground truth')\n",
    "plt.show()\n",
    "\n",
    "diffuse_hat = np.reshape(np.dot(W, alpha_hat.value[:N2]), [N, N])\n",
    "spec_hat = np.reshape(np.dot(W, alpha_hat.value[N2:]), [N, N])\n",
    "\n",
    "#plot all the images \n",
    "f, ((ax1, ax2), (ax3, ax4)) = plt.subplots(2, 2)\n",
    "\n",
    "ax1.imshow(diffuse, cmap='gray', interpolation='none')\n",
    "ax1.axis('off')\n",
    "ax1.set_title('diffuse ground truth')\n",
    "\n",
    "ax2.imshow(diffuse, cmap='gray', interpolation='none')\n",
    "#ax2.imshow(y.reshape([K,N,N])[1,:,:], cmap='gray', interpolation='none')\n",
    "ax2.axis('off');\n",
    "ax2.set_title('diffuse est')\n",
    "\n",
    "ax3.imshow(spec, cmap='gray', interpolation='none')\n",
    "ax3.axis('off');\n",
    "ax3.set_title('specular ground truth')\n",
    "\n",
    "ax4.imshow(spec_hat, cmap='gray', interpolation='none')\n",
    "ax4.axis('off');\n",
    "ax4.set_title('specular est')\n"
   ]
  },
  {
   "cell_type": "code",
   "execution_count": 174,
   "metadata": {
    "collapsed": false
   },
   "outputs": [
    {
     "name": "stdout",
     "output_type": "stream",
     "text": [
      "(1024, 4096)\n",
      "(1024, 4096)\n",
      "(4096, 2048)\n",
      "(1024,)\n",
      "(2048, 1)\n",
      "(32, 32, 4)\n"
     ]
    },
    {
     "data": {
      "image/png": "[encoded data removed]",
      "text/plain": [
       "<matplotlib.figure.Figure at 0x11fd08160>"
      ]
     },
     "metadata": {},
     "output_type": "display_data"
    },
    {
     "data": {
      "image/png": "[encoded data removed]",
      "text/plain": [
       "<matplotlib.figure.Figure at 0x11f6967f0>"
      ]
     },
     "metadata": {},
     "output_type": "display_data"
    }
   ],
   "source": [
    "print(B.shape)\n",
    "print(A.shape)\n",
    "print(C.shape)\n",
    "print(alpha_d.shape)\n",
    "print(alpha_hat.value.shape)\n",
    "\n",
    "print(images[:N2].shape)\n",
    "\n",
    "plt.stem(np.dot(S, alpha))\n",
    "plt.show();\n",
    "plt.stem(y)\n",
    "plt.show();"
   ]
  },
  {
   "cell_type": "code",
   "execution_count": null,
   "metadata": {
    "collapsed": true
   },
   "outputs": [],
   "source": []
  },
  {
   "cell_type": "code",
   "execution_count": null,
   "metadata": {
    "collapsed": false
   },
   "outputs": [],
   "source": [
    "import pywt\n",
    "\n",
    "M = 30\n",
    "N = 100\n",
    "\n",
    "#define a sparse vector\n",
    "alpha = np.zeros(N)\n",
    "alpha[13] = 3\n",
    "alpha[34] = 5\n",
    "alpha[37] = 1\n",
    "\n",
    "#compute the wavelet matrix\n",
    "w_type = 'db2'\n",
    "w_level = 4\n",
    "\n",
    "W = np.array([])\n",
    "W_rec = np.array([])\n",
    "\n",
    "for n in range(N):\n",
    "    vec = np.zeros(N)\n",
    "    vec[n] = 1\n",
    "    coeffs = pywt.wavedec(vec, w_type, level=w_level)\n",
    "    #flatten the coefficients\n",
    "    coeffs = np.array([item for sublist in coeffs for item in sublist])\n",
    "    \n",
    "    #stack the vectors in the matrix W\n",
    "    if len(W) == 0:\n",
    "        W = coeffs\n",
    "    else:\n",
    "        W = np.vstack([W, coeffs])\n",
    "    \n",
    "    #reconstruction coefficients\n",
    "    coeffs_rec = pywt.waverec(vec, w_type, level=w_level)\n",
    "    #flatten the coefficients\n",
    "    coeffs_rec = np.array([item for sublist in coeffs_rec for item in sublist])\n",
    "    \n",
    "    #stack the vectors in the matrix W\n",
    "    if len(W_rec) == 0:\n",
    "        W_rec = coeffs_rec\n",
    "    else:\n",
    "        W_rec = np.vstack([W_rec, coeffs_rec])\n",
    "\n",
    "print(W.shape)\n",
    "    \n",
    "#define a random sampling matrix\n",
    "A = np.random.randint(0,2, [M, N])\n",
    "\n",
    "\n",
    "\n",
    "#compute y\n",
    "y = np.dot(A, x)\n",
    "\n",
    "#add noise (comment it if you want the noiseless case)\n",
    "sigma = 0.5\n",
    "y += sigma*np.random.random(M)\n",
    "\n",
    "# gamma must be positive due to DCP rules.\n",
    "gamma = 1\n",
    "\n",
    "# Construct the problem.\n",
    "x_hat = Variable(N)\n",
    "error = sum_squares(A*x_hat - y)\n",
    "obj = Minimize(error + gamma*norm(x_hat, 1))\n",
    "prob = Problem(obj)\n",
    "\n",
    "\n"
   ]
  },
  {
   "cell_type": "code",
   "execution_count": null,
   "metadata": {
    "collapsed": true
   },
   "outputs": [],
   "source": []
  }
 ],
 "metadata": {
  "hide_input": false,
  "kernelspec": {
   "display_name": "Python [Root]",
   "language": "python",
   "name": "Python [Root]"
  },
  "latex_envs": {
   "bibliofile": "biblio.bib",
   "cite_by": "apalike",
   "current_citInitial": 1,
   "eqLabelWithNumbers": true,
   "eqNumInitial": 0
  }
 },
 "nbformat": 4,
 "nbformat_minor": 0
}

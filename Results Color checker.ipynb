{
 "cells": [
  {
   "cell_type": "code",
   "execution_count": null,
   "metadata": {},
   "outputs": [],
   "source": [
    "import matplotlib.pyplot as plt\n",
    "from matplotlib.patches import Rectangle\n",
    "import numpy as np\n",
    "import pickle\n",
    "import scipy as sp\n",
    "from skimage import data, io, filters\n",
    "from skimage.color import rgb2hsv, hsv2rgb, xyz2rgb\n",
    "from skimage import data, img_as_float\n",
    "from skimage import exposure\n",
    "\n",
    "from lippmann import show_spectrum, show_lippmann_transform, lippmann_transform\n",
    "from display_spectral_data import load_specim_data\n",
    "from color_tools import upsample_hue_saturation, from_spectrum_to_xyz, from_xyz_to_rgb\n",
    "from spectrum import Spectrum3D\n",
    "import spectrum_recovery_pool as recov"
   ]
  },
  {
   "cell_type": "markdown",
   "metadata": {},
   "source": [
    "### Warning: data has to be downloaded from SWITCH drive (shared by Arnaud)"
   ]
  },
  {
   "cell_type": "code",
   "execution_count": null,
   "metadata": {},
   "outputs": [],
   "source": [
    "name = \"color_checker\" # prefix of the file with data and results \n",
    "\n",
    "directory = \"color_checker_high_res\"\n",
    "\n",
    "results_path = f\"PNAS/{directory}/{name}\"\n",
    "\n",
    "c0 = 299792458\n",
    "n0 = 1.5\n",
    "c = c0 / n0\n",
    "\n",
    "result = np.load(f\"{results_path}.npy\")\n",
    "negative_rato = np.min(result)/np.max(result)\n",
    "if negative_rato < 0:\n",
    "    print(f\"there are negative values in power spectrum of magnitude {negative_rato}\")\n",
    "result = np.clip(result, a_min = 0, a_max = np.inf)\n",
    "with open(f\"{results_path}.pkl\", \"rb\") as pickled_params:\n",
    "    params = pickle.load(pickled_params)\n",
    "\n",
    "if \"downsampling\" in params:\n",
    "    ds = params[\"downsampling\"]\n",
    "else:\n",
    "    ds = 25\n",
    "    estimate_decay\n",
    "# if the data is stored in \"Cubes\"     \n",
    "downsampled, wavelengths = load_specim_data(\"Cubes_ours/\" + name, 1, cut=True)\n",
    "\n",
    "omegas_rec = 2 * np.pi * c / wavelengths\n",
    "if params[\"visible\"]: #TODO what should be there? \n",
    "    omegas_est = np.linspace(2 * np.pi * c / 400E-9, 2 * np.pi * c / 700E-9, result.shape[2])\n",
    "    print(\"Restricting spectrum to visible\")\n",
    "else:   \n",
    "    omegas_est = np.linspace(np.max(omegas_rec), np.min(omegas_rec), result.shape[2])\n",
    "wavelengths_est = 2 * np.pi * c / omegas_est"
   ]
  },
  {
   "cell_type": "markdown",
   "metadata": {},
   "source": [
    "### Display experiment parameters and errors"
   ]
  },
  {
   "cell_type": "code",
   "execution_count": null,
   "metadata": {
    "scrolled": false
   },
   "outputs": [],
   "source": [
    "print(\"Experiment setup\")\n",
    "print_params = params.copy()\n",
    "\n",
    "Z = params[\"Z\"]\n",
    "k0 = params[\"k0\"]\n",
    "\n",
    "if \"estimate_depth\" in params:\n",
    "    if params[\"estimate_depth\"]:\n",
    "        plt.matshow(params[\"Z_estimates\"])\n",
    "        plt.colorbar()\n",
    "        plt.savefig(f\"{results_path}_z.pdf\")\n",
    "        plt.show()\n",
    "        print_params.pop(\"Z_estimates\")\n",
    "        print_params.pop(\"k0_estimates\")\n",
    "        Z = np.median(params['Z_estimates'])\n",
    "        k0 = np.median(params[\"k0_estimates\"])\n",
    "        print(f\"median depth {Z:.2e}\")\n",
    "        print(f\"median decay {k0}\")\n",
    "print_params.pop(\"errors\")\n",
    "print_params"
   ]
  },
  {
   "cell_type": "code",
   "execution_count": null,
   "metadata": {},
   "outputs": [],
   "source": [
    "plt.matshow(params[\"errors\"])\n",
    "plt.colorbar()\n",
    "plt.show()"
   ]
  },
  {
   "cell_type": "markdown",
   "metadata": {},
   "source": [
    "### Convert everything to RGB and choose pixel positions"
   ]
  },
  {
   "cell_type": "code",
   "execution_count": null,
   "metadata": {},
   "outputs": [],
   "source": [
    "pixel = (12, 12)\n",
    "pixel_true = (11, 10)\n",
    "\n",
    "ground_truth, _ = load_specim_data(\"Cubes_ours/\" + name + \"_true\", params[\"downsampling\"], cut=True)\n",
    "\n",
    "recorded_xyz = from_spectrum_to_xyz(wavelengths, downsampled, normalize=False)\n",
    "recorded_xyz = recorded_xyz / np.min(np.sum(recorded_xyz, axis=2))\n",
    "recorded_rgb = from_xyz_to_rgb(recorded_xyz)\n",
    "\n",
    "estimated_xyz = from_spectrum_to_xyz(wavelengths_est, result, normalize=False)\n",
    "estimated_xyz = estimated_xyz / np.min(np.sum(estimated_xyz, axis=2))\n",
    "estimated_rgb = from_xyz_to_rgb(estimated_xyz)\n",
    "\n",
    "ground_truth_xyz = from_spectrum_to_xyz(wavelengths, ground_truth, normalize=False)\n",
    "ground_truth_xyz = ground_truth_xyz / np.min(np.sum(ground_truth_xyz, axis=2))\n",
    "ground_truth_rgb = from_xyz_to_rgb(ground_truth_xyz)\n",
    "\n",
    "fig, (ax0, ax1, ax2) = plt.subplots(1, 3, figsize=(10, 5))\n",
    "ax0.imshow(ground_truth_rgb)\n",
    "ax1.imshow(recorded_rgb[::params[\"downsampling\"], ::params[\"downsampling\"]])\n",
    "ax2.imshow(estimated_rgb)\n",
    "ax1.set_title(\"Recorded colors\")\n",
    "ax0.set_title(\"Original colors\")\n",
    "ax0.set_title(\"Reconstructed colors\")\n",
    "rect0 = Rectangle((pixel_true[1] - 0.5, pixel_true[0] - 0.5), 1, 1, alpha=1, color=\"none\", ec=\"white\", lw=2,zorder=10)\n",
    "rect = Rectangle((pixel[1] - 0.5, pixel[0] - 0.5), 1, 1, alpha=1, color=\"none\", ec=\"white\", lw=2,zorder=10)\n",
    "rect2 = Rectangle((pixel[1] - 0.5, pixel[0] - 0.5), 1, 1, alpha=1, color=\"none\", ec=\"white\", lw=2,zorder=10)\n",
    "ax1.add_patch(rect)\n",
    "ax2.add_patch(rect2)\n",
    "ax0.add_patch(rect0)\n",
    "plt.savefig(f\"{results_path}_low_res.pdf\")\n",
    "plt.show()"
   ]
  },
  {
   "cell_type": "markdown",
   "metadata": {},
   "source": [
    "### Display spectrum for the pixel marked above"
   ]
  },
  {
   "cell_type": "code",
   "execution_count": null,
   "metadata": {},
   "outputs": [],
   "source": [
    "A = recov.generate_matrix_A(omegas_est, Z, r=params[\"r\"], k0=k0)\n",
    "\n",
    "fig, (ax0, ax1, ax2) = plt.subplots(1, 3, figsize=(6, 2))\n",
    "\n",
    "show_spectrum(wavelengths, ground_truth[pixel_true], show_background=True, short_display=True, ax=ax0, visible=True)\n",
    "show_spectrum(wavelengths, downsampled[pixel], show_background=True, short_display=True, ax=ax1, visible=True)\n",
    "show_spectrum(wavelengths_est, result[pixel], show_background=True, short_display=True, ax=ax2, visible=True)\n",
    "\n",
    "depths = np.linspace(0,Z,200)\n",
    "# show_lippmann_transform(depths, lippmann_transform(wavelengths_est, result[pixel], depths, r=params[\"r\"], k0=k0)[0], ax=ax3, short_display=True)\n",
    "\n",
    "# show_spectrum(wavelengths_est, np.abs(A @ result[pixel])**2, show_background=True, short_display=True, ax=ax4, visible=True)\n",
    "ax1.set_title(\"Reflected spectrum\")\n",
    "title = f\"Z: {params['Z']}, N: {params['N']}, Visible: {params['visible']}\"\n",
    "if \"estimate_depth\" in params and params[\"estimate_depth\"]:\n",
    "    title += f\", Z est: {params['Z_estimates'][pixel]:.2e}\"\n",
    "ax2.set_title(title)\n",
    "# ax3.set_title(\"Pattern\")\n",
    "# ax4.set_title(\"Re-estimated reflected spectrum\")\n",
    "# plt.savefig(f\"{results_path}_point.pdf\")\n",
    "plt.show()"
   ]
  },
  {
   "cell_type": "code",
   "execution_count": null,
   "metadata": {},
   "outputs": [],
   "source": [
    "plt.figure(figsize=(5,3))\n",
    "plt.plot(depths, lippmann_transform(wavelengths_est, result[pixel], depths, r=params[\"r\"], k0=k0)[0])\n",
    "plt.title(\"Pattern\")\n",
    "plt.gca().axhline(0)\n",
    "plt.show()"
   ]
  },
  {
   "cell_type": "code",
   "execution_count": null,
   "metadata": {},
   "outputs": [],
   "source": [
    "spectrum = sp.interpolate.interp1d(omegas_rec, downsampled[pixel], kind='cubic', bounds_error=False, \n",
    "                                   fill_value='extrapolate')(omegas_est)\n",
    "plt.figure(figsize=(5,3))\n",
    "plt.plot(wavelengths_est, spectrum, label=\"measured\", c=\"k\")\n",
    "plt.plot(wavelengths_est,  np.abs(A @ result[pixel])**2, label=\"re-estimated\")\n",
    "plt.legend()\n",
    "plt.gca().axhline()\n",
    "plt.show()"
   ]
  },
  {
   "cell_type": "markdown",
   "metadata": {},
   "source": [
    "### Display (and upsample) in RGB"
   ]
  },
  {
   "cell_type": "code",
   "execution_count": null,
   "metadata": {},
   "outputs": [],
   "source": [
    "image = io.imread(\"Cubes_ours/\" + name + \".png\")\n",
    "image = np.swapaxes(image[:, ::-1, :3], 1, 0)\n",
    "cut_idx = np.loadtxt(\"Cubes_ours/\" + name + \"_cut.txt\").astype(np.int)\n",
    "image = image[cut_idx[0, 0]:cut_idx[0, 1], cut_idx[1, 0]:cut_idx[1, 1]]\n",
    "\n",
    "true_image = io.imread(\"Cubes_ours/\" + name + \"_true.png\")\n",
    "true_image = np.swapaxes(true_image[:, ::-1, :3], 1, 0)\n",
    "true_image = true_image[40:-40, 90:-90]\n",
    "\n",
    "image = exposure.rescale_intensity(image)\n",
    "fig, (ax1, ax2) = plt.subplots(1, 2, figsize=(8.5, 5))\n",
    "ax2.imshow(image)\n",
    "ax2.axis('off')\n",
    "ax1.imshow(true_image)\n",
    "ax1.axis('off')\n",
    "# plt.savefig(\"PNAS/color_checker_photos.pdf\")\n",
    "plt.show()"
   ]
  },
  {
   "cell_type": "code",
   "execution_count": null,
   "metadata": {},
   "outputs": [],
   "source": [
    "recorded_upsampled = upsample_hue_saturation(image, recorded_rgb, order=1)\n",
    "estimated_upsampled = upsample_hue_saturation(image, estimated_rgb, order=1)"
   ]
  },
  {
   "cell_type": "code",
   "execution_count": null,
   "metadata": {},
   "outputs": [],
   "source": [
    "fig, (ax1, ax2) = plt.subplots(1, 2, figsize=(8.5, 5))\n",
    "ax1.imshow(recorded_upsampled)\n",
    "ax2.imshow(estimated_upsampled)\n",
    "ax2.set_title(\"reconstruced upsampled\")\n",
    "ax1.set_title(\"measured upsampled\")\n",
    "ax2.axis(\"off\")\n",
    "ax2.axis(\"off\")\n",
    "plt.show()"
   ]
  },
  {
   "cell_type": "code",
   "execution_count": null,
   "metadata": {},
   "outputs": [],
   "source": []
  }
 ],
 "metadata": {
  "kernelspec": {
   "display_name": "Python 3",
   "language": "python",
   "name": "python3"
  },
  "language_info": {
   "codemirror_mode": {
    "name": "ipython",
    "version": 3
   },
   "file_extension": ".py",
   "mimetype": "text/x-python",
   "name": "python",
   "nbconvert_exporter": "python",
   "pygments_lexer": "ipython3",
   "version": "3.8.5"
  }
 },
 "nbformat": 4,
 "nbformat_minor": 4
}

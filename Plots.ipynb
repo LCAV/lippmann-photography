{
 "cells": [
  {
   "cell_type": "code",
   "execution_count": null,
   "metadata": {},
   "outputs": [],
   "source": [
    "import matplotlib.pyplot as plt\n",
    "import numpy as np\n",
    "from pylab import rcParams,rc, cycler\n",
    "cm = 1/2.54\n",
    "page_width=15.4*cm\n",
    "plot_height=5*cm\n",
    "rcParams['figure.figsize'] = page_width/2 + 0.5*cm, plot_height + 0.5*cm\n",
    "# rcParams['axes.prop_cycle'] = cycler(color=[\"#ffb400\", \"#0c5388\", \"#1e8700\", \"#6f0023\"]) \n",
    "rc('font',**{'family':'serif','serif':['Computer Modern']})\n",
    "rc('text', usetex=True)\n",
    "rcParams['font.size'] = 11\n",
    "\n",
    "def filter_s(k, tau=1e-6, Z=5e-6):\n",
    "    fake_wavenumber = tau + 2j * k\n",
    "    return (1 - np.exp(-fake_wavenumber*Z))/fake_wavenumber\n",
    "\n",
    "light_speed = 299792458\n",
    "\n",
    "lambda_min = 400e-9\n",
    "lambda_max = 700e-9\n",
    "k_min = 2*np.pi/lambda_max\n",
    "k_max = 2*np.pi/lambda_min\n",
    "k_span = (k_max-k_min)/2\n",
    "\n",
    "k = np.linspace(-k_span, k_span, 500)\n",
    "\n",
    "plt.plot(k, np.imag(filter_s(k, Z=5e-6)), label=\"imaginary\")\n",
    "plt.plot(k, np.real(filter_s(k, Z=5e-6)), label=\"real\")\n",
    "plt.legend(loc=\"upper right\")\n",
    "plt.xlabel(\"\\(k'\\)\")\n",
    "plt.tight_layout(pad=0.2)\n",
    "plt.savefig(\"filter_z_5.pdf\", transparent=True)\n",
    "plt.show()\n",
    "\n",
    "plt.plot(k, np.imag(filter_s(k, Z=10e-6)), label=\"imaginary\")\n",
    "plt.plot(k, np.real(filter_s(k, Z=10e-6)), label=\"real\")\n",
    "plt.legend(loc=\"upper right\")\n",
    "plt.xlabel(\"\\(k'\\)\")\n",
    "plt.tight_layout(pad=0.2)\n",
    "plt.savefig(\"filter_z_10.pdf\", transparent=True)\n",
    "plt.show()"
   ]
  },
  {
   "cell_type": "code",
   "execution_count": null,
   "metadata": {},
   "outputs": [],
   "source": [
    "rcParams['figure.figsize'] = 9*cm, 5*cm\n",
    "rc('font',**{'family':'serif','serif':['Computer Modern']})\n",
    "rc('text', usetex=True)\n",
    "rcParams['font.size'] = 8\n",
    "\n",
    "tau=3e5\n",
    "\n",
    "plt.plot(k*light_speed, np.imag(filter_s(k, Z=5e-6)), c=\"gray\", label=\"imaginary\")\n",
    "plt.plot(k*light_speed, np.real(filter_s(k, Z=5e-6)), label=\"real\")\n",
    "plt.legend(loc=\"upper right\")\n",
    "plt.xlabel(\"\\(\\omega' [\\){s}\\(^{−1}]\\)\")\n",
    "plt.tight_layout(pad=0.2)\n",
    "plt.gca().get_yaxis().set_visible(False)\n",
    "plt.savefig(\"filter_z_5_TSP.pdf\", transparent=True)\n",
    "plt.show()\n",
    "\n",
    "plt.plot(k*light_speed, np.imag(filter_s(k, tau, Z=5e-6)), c=\"gray\", label=\"imaginary\")\n",
    "plt.plot(k*light_speed, np.real(filter_s(k, tau, Z=5e-6)), label=\"real\")\n",
    "plt.legend(loc=\"upper right\")\n",
    "plt.xlabel(\"\\(\\omega' [\\){s}\\(^{−1}]\\)\")\n",
    "plt.tight_layout(pad=0.2)\n",
    "plt.gca().get_yaxis().set_visible(False)\n",
    "plt.savefig(\"filter_z_5_dev_TSP.pdf\", transparent=True)\n",
    "plt.show()"
   ]
  },
  {
   "cell_type": "code",
   "execution_count": null,
   "metadata": {},
   "outputs": [],
   "source": [
    "1.5/(5e-6)"
   ]
  },
  {
   "cell_type": "code",
   "execution_count": null,
   "metadata": {},
   "outputs": [],
   "source": [
    "lambda_min = 400e-9\n",
    "lambda_max = 700e-9\n",
    "lambda_0 = 600e-9\n",
    "lambda_1 = 500e-9\n",
    "k_0 = 2*np.pi/lambda_0\n",
    "k_1 = 2*np.pi/lambda_1\n",
    "wavelengths = np.linspace(lambda_min, lambda_max, 200)\n",
    "k = 2*np.pi/wavelengths\n",
    "rho = 0.3\n",
    "theta = np.pi"
   ]
  },
  {
   "cell_type": "code",
   "execution_count": null,
   "metadata": {},
   "outputs": [],
   "source": [
    "total = np.exp(1j*theta)*(1+rho**2)*filter_s(k, Z=5e-6) + rho*filter_s(k - k_0, Z=5e-6) "
   ]
  },
  {
   "cell_type": "code",
   "execution_count": null,
   "metadata": {},
   "outputs": [],
   "source": [
    "plt.subplots(1, 1, figsize=(6, 3))\n",
    "plt.plot(wavelengths*1e9, np.imag(total), label=\"imag.\")\n",
    "plt.plot(wavelengths*1e9, np.real(total), label=\"real\")\n",
    "plt.legend(loc=\"upper right\")\n",
    "plt.xlabel(\"wavelength [nm]\")\n",
    "plt.ylabel(\"amplitude\")\n",
    "plt.tight_layout()\n",
    "plt.savefig(\"single_wavelength.png\", dpi=300)\n",
    "plt.show()"
   ]
  },
  {
   "cell_type": "code",
   "execution_count": null,
   "metadata": {},
   "outputs": [],
   "source": [
    "plt.subplots(1, 1, figsize=(6, 3))\n",
    "plt.plot(wavelengths*1e9, np.abs(total)**2, c=\"C2\")\n",
    "plt.axvline(600)\n",
    "plt.xlabel(\"wavelength [nm]\")\n",
    "plt.ylabel(\"power\")\n",
    "plt.tight_layout()\n",
    "plt.savefig(\"single_wavelength_power.png\", dpi=300)\n",
    "plt.show()"
   ]
  },
  {
   "cell_type": "code",
   "execution_count": null,
   "metadata": {},
   "outputs": [],
   "source": [
    "k_grid = np.tile(k, (len(k), 1))\n",
    "o_1 = np.exp(1j*theta)*(1+rho**2)*filter_s(k_grid, Z=5e-6).T\n",
    "o_2 = rho*filter_s(k_grid - k_grid.T, Z=5e-6).T"
   ]
  },
  {
   "cell_type": "code",
   "execution_count": null,
   "metadata": {},
   "outputs": [],
   "source": [
    "fix, ax = plt.subplots(1, 4, figsize=(12, 3))\n",
    "p_0 = np.zeros_like(k)\n",
    "p_0[70:150] = 1\n",
    "ax[0].plot(k, p_0,  c=\"C2\")\n",
    "\n",
    "ax[1].plot(k, np.real(o_2 @ p_0))\n",
    "ax[1].plot(k, np.imag(o_2 @ p_0))\n",
    "ax[1].plot(k, np.real(o_1 @ p_0))\n",
    "ax[1].plot(k, np.imag(o_1 @ p_0))\n",
    "\n",
    "ax[2].plot(k, np.real((o_2 + o_1) @ p_0))\n",
    "ax[2].plot(k, np.imag((o_2 + o_1) @ p_0))\n",
    "\n",
    "ax[3].plot(k, np.abs((o_2 + o_1) @ p_0)**2, c=\"C2\")\n",
    "ax[3].plot(k, np.abs(o_2 @ p_0)**2, c=\"C3\")\n",
    "plt.show()"
   ]
  },
  {
   "cell_type": "code",
   "execution_count": null,
   "metadata": {},
   "outputs": [],
   "source": [
    "fix, ax = plt.subplots(1, 4, figsize=(12, 3))\n",
    "p_0 = np.exp(-(k-k_0)**2/1e11)\n",
    "\n",
    "\n",
    "ax[0].plot(wavelengths, p_0,  c=\"C2\")\n",
    "\n",
    "\n",
    "ax[1].plot(wavelengths, np.real(o_2 @ p_0))\n",
    "ax[1].plot(wavelengths, np.imag(o_2 @ p_0))\n",
    "ax[1].plot(wavelengths, np.real(o_1 @ p_0))\n",
    "ax[1].plot(wavelengths, np.imag(o_1 @ p_0))\n",
    "\n",
    "ax[2].plot(wavelengths, np.real((o_2 + o_1) @ p_0))\n",
    "ax[2].plot(wavelengths, np.imag((o_2 + o_1) @ p_0))\n",
    "\n",
    "ax[3].plot(wavelengths, np.abs((o_2 + o_1) @ p_0)**2, c=\"C2\")\n",
    "ax[3].plot(wavelengths, np.abs(o_2 @ p_0)**2, c=\"C3\")\n",
    "plt.show()"
   ]
  },
  {
   "cell_type": "code",
   "execution_count": null,
   "metadata": {},
   "outputs": [],
   "source": [
    "fix, ax = plt.subplots(1, 4, figsize=(12, 3))\n",
    "p_0 = np.exp(-(k-k_0)**2/1e12)\n",
    "\n",
    "ax[0].plot(wavelengths, p_0,  c=\"C2\")\n",
    "\n",
    "ax[1].plot(wavelengths, np.real(o_2 @ p_0))\n",
    "ax[1].plot(wavelengths, np.imag(o_2 @ p_0))\n",
    "ax[1].plot(wavelengths, np.real(o_1 @ p_0))\n",
    "ax[1].plot(wavelengths, np.imag(o_1 @ p_0))\n",
    "\n",
    "ax[2].plot(wavelengths, np.real((o_2 + o_1) @ p_0))\n",
    "ax[2].plot(wavelengths, np.imag((o_2 + o_1) @ p_0))\n",
    "\n",
    "ax[3].plot(wavelengths, np.abs((o_2 + o_1) @ p_0)**2, c=\"C2\")\n",
    "ax[3].plot(wavelengths, np.abs(o_2 @ p_0)**2, c=\"C3\")\n",
    "plt.show()"
   ]
  },
  {
   "cell_type": "code",
   "execution_count": null,
   "metadata": {},
   "outputs": [],
   "source": [
    "o_1 = np.exp(1j*theta)*(1+rho**2)*filter_s(k_grid, tau, Z=5e-6).T\n",
    "o_2 = rho*filter_s(k_grid - k_grid.T, tau, Z=5e-6).T\n",
    "\n",
    "fix, ax = plt.subplots(1, 4, figsize=(12, 3))\n",
    "p_0 = np.exp(-(k-k_0)**2/1e12)\n",
    "\n",
    "\n",
    "ax[0].plot(wavelengths, p_0,  c=\"C2\")\n",
    "\n",
    "ax[1].plot(wavelengths, np.real(o_2 @ p_0))\n",
    "ax[1].plot(wavelengths, np.imag(o_2 @ p_0))\n",
    "ax[1].plot(wavelengths, np.real(o_1 @ p_0))\n",
    "ax[1].plot(wavelengths, np.imag(o_1 @ p_0))\n",
    "\n",
    "ax[2].plot(wavelengths, np.real((o_2 + o_1) @ p_0))\n",
    "ax[2].plot(wavelengths, np.imag((o_2 + o_1) @ p_0))\n",
    "\n",
    "ax[3].plot(wavelengths, np.abs((o_2 + o_1) @ p_0)**2, c=\"C2\")\n",
    "ax[3].plot(wavelengths, np.abs(o_2 @ p_0)**2, c=\"C3\")\n",
    "plt.show()"
   ]
  },
  {
   "cell_type": "code",
   "execution_count": null,
   "metadata": {},
   "outputs": [],
   "source": []
  }
 ],
 "metadata": {
  "kernelspec": {
   "display_name": "Python 3 (ipykernel)",
   "language": "python",
   "name": "python3"
  },
  "language_info": {
   "codemirror_mode": {
    "name": "ipython",
    "version": 3
   },
   "file_extension": ".py",
   "mimetype": "text/x-python",
   "name": "python",
   "nbconvert_exporter": "python",
   "pygments_lexer": "ipython3",
   "version": "3.9.7"
  }
 },
 "nbformat": 4,
 "nbformat_minor": 4
}

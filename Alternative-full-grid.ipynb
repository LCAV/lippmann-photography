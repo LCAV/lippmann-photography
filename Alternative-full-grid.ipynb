{
 "cells": [
  {
   "cell_type": "code",
   "execution_count": null,
   "metadata": {},
   "outputs": [],
   "source": [
    "from jax import grad, jit\n",
    "import jax\n",
    "import jax.numpy as np\n",
    "import matplotlib.pyplot as plt\n",
    "import spectrum_recovery_pool as srp\n",
    "import copy\n",
    "import numpy\n",
    "from skimage import io\n",
    "from matplotlib.patches import Rectangle\n",
    "import time\n",
    "\n",
    "from lippmann import show_spectrum, show_lippmann_transform, lippmann_transform\n",
    "from display_spectral_data import load_specim_data\n",
    "from color_tools import upsample_hue_saturation, from_spectrum_to_xyz, from_xyz_to_rgb"
   ]
  },
  {
   "cell_type": "markdown",
   "metadata": {},
   "source": [
    "# Alternative optimisation\n",
    "Using autograd and jax.  \n",
    "The goal of this notebook is to optimise the spectrum assuming it's smooth, but not necessairly bandlimited, see regularisation. \n",
    "\n",
    "I did not estimate depth or decay here."
   ]
  },
  {
   "cell_type": "code",
   "execution_count": null,
   "metadata": {},
   "outputs": [],
   "source": [
    "name = \"parrot\" # prefix of the file with data and results \n",
    "    \n",
    "# if the data is stored in \"Cubes\"     \n",
    "downsampled, wavelengths = load_specim_data(\"Cubes/\" + name, ds=25, cut=True)\n",
    "print(downsampled.shape)"
   ]
  },
  {
   "cell_type": "code",
   "execution_count": null,
   "metadata": {},
   "outputs": [],
   "source": [
    "def forward_model(power_spectrum, Z, k0):\n",
    "    A = srp.generate_matrix_A(omegas, Z, r=r, k0=k0)\n",
    "    return np.abs(A @ power_spectrum)**2\n",
    "\n",
    "def sigmoid(x):\n",
    "    return 1 / (1 + np.exp(-x))\n",
    "\n",
    "def data_fidelity(power_spectrum, Z, k0, measured_spectrum, mask=1):\n",
    "    return np.linalg.norm((measured_spectrum - forward_model(power_spectrum, Z, k0))*mask)\n",
    "\n",
    "def derivative_regularisation(power_spectrum):\n",
    "    derivative = np.linalg.norm(jax.device_put(power_spectrum)[1:]-jax.device_put(power_spectrum)[:-1])\n",
    "    return derivative\n",
    "\n",
    "def second_derivative_regularisation(power_spectrum):\n",
    "    derivative = np.linalg.norm(jax.device_put(power_spectrum)[2:]-2*jax.device_put(power_spectrum)[1:-1] + jax.device_put(power_spectrum)[:-2])\n",
    "    return derivative"
   ]
  },
  {
   "cell_type": "code",
   "execution_count": null,
   "metadata": {},
   "outputs": [],
   "source": [
    "r_mercury = 0.7 * np.exp(1j * np.deg2rad(-148))\n",
    "r_air = 0.2\n",
    "r = r_mercury\n",
    "\n",
    "omegas = 2 * np.pi * srp.c / wavelengths\n",
    "\n",
    "mask = np.linspace(-2, 30, len(wavelengths))\n",
    "mask = sigmoid(mask)\n",
    "\n",
    "data_grad = jit(grad(data_fidelity, argnums=0))\n",
    "regularization_grad = jit(grad(derivative_regularisation))\n",
    "K_grad = jit(grad(data_fidelity, argnums=2))\n",
    "Z_grad = jit(grad(data_fidelity, argnums=1))\n",
    "reg_conts = 5e-1\n",
    "\n",
    "result = []\n",
    "depths = []\n",
    "kzeros = []"
   ]
  },
  {
   "cell_type": "code",
   "execution_count": null,
   "metadata": {
    "scrolled": true
   },
   "outputs": [],
   "source": [
    "for x in range(downsampled.shape[0]):\n",
    "    for y in range(downsampled.shape[1]):\n",
    "        print(x, y)\n",
    "        rate = 0.2\n",
    "        Z_rate = 1e-13\n",
    "        K_rate = 1e-1\n",
    "        cost = 100\n",
    "        k0 = 3.7\n",
    "        Z = 3e-6\n",
    "        measured_spectrum = downsampled[x, y]\n",
    "        power_spectrum = copy.copy(measured_spectrum)\n",
    "        start = time.time()\n",
    "        for i in range(500):\n",
    "            power_spectrum -= rate * (data_grad(power_spectrum, Z, k0, measured_spectrum)\\\n",
    "                                                + reg_conts * regularization_grad(power_spectrum))\n",
    "            power_spectrum = np.maximum(0, power_spectrum) # Force power_spectrum to be non-negative\n",
    "            if cost < data_fidelity(power_spectrum, Z, k0, measured_spectrum):\n",
    "                rate = 0.5 * rate\n",
    "                Z_rate = 0.5 * Z_rate\n",
    "                K_rate = 0.5 * K_rate\n",
    "                print(\"lowering the rate\")\n",
    "            cost = data_fidelity(power_spectrum, Z, k0, measured_spectrum)\n",
    "            if i % 10 == 0:\n",
    "                k0 -= K_rate * K_grad(power_spectrum, Z, k0, measured_spectrum)\n",
    "                Z -= Z_rate * Z_grad(power_spectrum, Z, k0, measured_spectrum)\n",
    "        \n",
    "        result.append(copy.copy(power_spectrum))\n",
    "        depths.append(Z)\n",
    "        kzeros.append(k0)\n",
    "        print(cost)\n",
    "        print(f\"time: {time.time() - start:.2f}s\")"
   ]
  },
  {
   "cell_type": "code",
   "execution_count": null,
   "metadata": {},
   "outputs": [],
   "source": [
    "result = np.array(result).reshape(downsampled.shape)\n",
    "np.save(\"PNAS/gradient_descent/result0\", result)"
   ]
  },
  {
   "cell_type": "code",
   "execution_count": null,
   "metadata": {},
   "outputs": [],
   "source": [
    "recorded_xyz = from_spectrum_to_xyz(wavelengths, downsampled, normalize=False)\n",
    "recorded_xyz = recorded_xyz / np.min(np.sum(recorded_xyz, axis=2))\n",
    "recorded_rgb = from_xyz_to_rgb(recorded_xyz)\n",
    "\n",
    "estimated_xyz = from_spectrum_to_xyz(wavelengths, result, normalize=False)\n",
    "estimated_xyz = estimated_xyz / np.min(np.sum(estimated_xyz, axis=2))\n",
    "estimated_rgb = from_xyz_to_rgb(estimated_xyz)\n",
    "\n",
    "fig, (ax1, ax2) = plt.subplots(1, 2, figsize=(10, 5))\n",
    "ax1.imshow(recorded_rgb)\n",
    "ax2.imshow(estimated_rgb)\n",
    "ax1.set_title(\"original colors\")\n",
    "# rect = Rectangle((pixel[1] - 0.5, pixel[0] - 0.5), 1, 1, alpha=1, color=\"none\", ec=\"white\", lw=2,zorder=10)\n",
    "# rect2 = Rectangle((pixel[1] - 0.5, pixel[0] - 0.5), 1, 1, alpha=1, color=\"none\", ec=\"white\", lw=2,zorder=10)\n",
    "# ax1.add_patch(rect)\n",
    "# ax2.add_patch(rect2)\n",
    "plt.show()"
   ]
  },
  {
   "cell_type": "code",
   "execution_count": null,
   "metadata": {},
   "outputs": [],
   "source": [
    "fig, (ax1, ax2, ax3, ax4) = plt.subplots(1, 4, figsize=(12, 3))\n",
    "pixel=(6, 6)\n",
    "\n",
    "show_spectrum(wavelengths, downsampled[pixel], show_background=True, short_display=True, ax=ax1, visible=True)\n",
    "show_spectrum(wavelengths, result[pixel], show_background=True, short_display=True, ax=ax2, visible=True)\n",
    "\n",
    "depths = np.linspace(0,Z,200)\n",
    "show_lippmann_transform(depths, lippmann_transform(wavelengths, result[pixel], depths, r=r, k0=k0)[0], ax=ax3, short_display=True)\n",
    "\n",
    "show_spectrum(wavelengths, forward_model(result[pixel], Z, k0), show_background=True, short_display=True, ax=ax4, visible=True)\n",
    "ax1.set_title(\"Reflected spectrum\")\n",
    "ax2.set_title(\"estimated\")\n",
    "ax3.set_title(\"Pattern\")\n",
    "ax4.set_title(\"Re-estimated reflected spectrum\")\n",
    "# plt.savefig(f\"{results_path}_point.pdf\")estimate_decay\n",
    "plt.show()"
   ]
  },
  {
   "cell_type": "code",
   "execution_count": null,
   "metadata": {},
   "outputs": [],
   "source": [
    "plt.plot(wavelengths, downsampled[pixel])\n",
    "plt.plot(wavelengths, result[pixel])\n",
    "plt.show()"
   ]
  },
  {
   "cell_type": "code",
   "execution_count": null,
   "metadata": {},
   "outputs": [],
   "source": []
  }
 ],
 "metadata": {
  "kernelspec": {
   "display_name": "Python 3",
   "language": "python",
   "name": "python3"
  },
  "language_info": {
   "codemirror_mode": {
    "name": "ipython",
    "version": 3
   },
   "file_extension": ".py",
   "mimetype": "text/x-python",
   "name": "python",
   "nbconvert_exporter": "python",
   "pygments_lexer": "ipython3",
   "version": "3.8.5"
  }
 },
 "nbformat": 4,
 "nbformat_minor": 4
}

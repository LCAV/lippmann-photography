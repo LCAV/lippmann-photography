{
 "cells": [
  {
   "cell_type": "code",
   "execution_count": null,
   "metadata": {},
   "outputs": [],
   "source": [
    "from jax import grad, jit\n",
    "import jax\n",
    "import jax.numpy as np\n",
    "import matplotlib.pyplot as plt\n",
    "import spectrum_recovery_pool as srp\n",
    "import copy\n",
    "import numpy\n",
    "from skimage import io\n",
    "from matplotlib.patches import Rectangle\n",
    "import time\n",
    "from IPython.display import display, clear_output\n",
    "\n",
    "from lippmann import show_spectrum, show_lippmann_transform, lippmann_transform\n",
    "from display_spectral_data import load_specim_data"
   ]
  },
  {
   "cell_type": "markdown",
   "metadata": {},
   "source": [
    "# Alternative optimisation\n",
    "Using autograd and jax.  \n",
    "The goal of this notebook is to optimise the spectrum assuming it's smooth, but not necessairly bandlimited, see regularisation. \n",
    "\n",
    "I did not estimate depth or decay here."
   ]
  },
  {
   "cell_type": "code",
   "execution_count": null,
   "metadata": {},
   "outputs": [],
   "source": [
    "name = \"color_checker\" # prefix of the file with data and results \n",
    "    \n",
    "data_folder = \"Cubes_ours/\"\n",
    "    \n",
    "# if the data is stored in \"Cubes\"     \n",
    "downsampled, wavelengths = load_specim_data(data_folder + name, ds=1, cut=True)\n",
    "\n",
    "image = io.imread(data_folder + name + \".png\")\n",
    "image = np.swapaxes(image[:, ::-1, :3], 1, 0)\n",
    "cut_idx = numpy.loadtxt(data_folder + name + \"_cut.txt\").astype(int)\n",
    "image = image[cut_idx[0, 0]:cut_idx[0, 1], cut_idx[1, 0]:cut_idx[1, 1]]\n",
    "\n",
    "pixel = (80, 180)\n",
    "\n",
    "plt.figure(figsize=(5, 5))\n",
    "rect = Rectangle((pixel[1] - 2, pixel[0] - 2), 4, 4, alpha=1, color=\"none\", ec=\"white\", lw=1,zorder=10)\n",
    "plt.gca().add_patch(rect)\n",
    "plt.imshow(image)\n",
    "plt.show()"
   ]
  },
  {
   "cell_type": "code",
   "execution_count": null,
   "metadata": {},
   "outputs": [],
   "source": [
    "omegas = 2 * np.pi * srp.c / wavelengths\n",
    "\n",
    "def forward_model(power_spectrum, Z, k0):\n",
    "    A = srp.generate_matrix_A(omegas, Z, r=r, k0=k0)\n",
    "    return np.abs(A @ power_spectrum)**2\n",
    "\n",
    "measured_spectrum = downsampled[pixel]\n",
    "\n",
    "def sigmoid(x):\n",
    "    return 1 / (1 + np.exp(-x))\n",
    "\n",
    "mask = np.linspace(-3, 50, len(wavelengths))\n",
    "mask = sigmoid(mask)\n",
    "\n",
    "def data_fidelity(power_spectrum, Z, k0, measured_spectrum, mask=1):\n",
    "    return np.linalg.norm((measured_spectrum - forward_model(power_spectrum, Z, k0))*mask)"
   ]
  },
  {
   "cell_type": "markdown",
   "metadata": {},
   "source": [
    "### Regularisation\n",
    "Just means square penalty on the first derivative seems to be working well, but we could use second derivative too"
   ]
  },
  {
   "cell_type": "code",
   "execution_count": null,
   "metadata": {},
   "outputs": [],
   "source": [
    "def derivative_regularisation(power_spectrum):\n",
    "    derivative = np.linalg.norm(jax.device_put(power_spectrum)[1:]-jax.device_put(power_spectrum)[:-1])\n",
    "    return derivative\n",
    "\n",
    "def second_derivative_regularisation(power_spectrum):\n",
    "    derivative = np.linalg.norm(jax.device_put(power_spectrum)[2:]-2*jax.device_put(power_spectrum)[1:-1] + jax.device_put(power_spectrum)[:-2])\n",
    "    return derivative"
   ]
  },
  {
   "cell_type": "markdown",
   "metadata": {},
   "source": [
    "### Initialise with the recorded spectrum"
   ]
  },
  {
   "cell_type": "code",
   "execution_count": null,
   "metadata": {},
   "outputs": [],
   "source": [
    "show_spectrum(wavelengths, measured_spectrum, show_background=True)\n",
    "plt.show()"
   ]
  },
  {
   "cell_type": "code",
   "execution_count": null,
   "metadata": {},
   "outputs": [],
   "source": [
    "power_spectrum = copy.copy(measured_spectrum)\n",
    "show_spectrum(wavelengths, power_spectrum, show_background=True)\n",
    "plt.show()"
   ]
  },
  {
   "cell_type": "code",
   "execution_count": null,
   "metadata": {},
   "outputs": [],
   "source": [
    "show_spectrum(wavelengths, mask, show_background=True)"
   ]
  },
  {
   "cell_type": "code",
   "execution_count": null,
   "metadata": {},
   "outputs": [],
   "source": [
    "Z = 8.2e-6\n",
    "r_mercury = 0.7 * np.exp(-1j * np.deg2rad(180 - 148))\n",
    "r_air = 0.2\n",
    "r = r_air\n",
    "k0 = 1.0\n",
    "\n",
    "\n",
    "data_grad = jit(grad(data_fidelity, argnums=0))\n",
    "regularization_grad = jit(grad(second_derivative_regularisation))\n",
    "K_grad = jit(grad(data_fidelity, argnums=2))\n",
    "Z_grad = jit(grad(data_fidelity, argnums=1))\n",
    "reg_conts = 1e-1\n",
    "plt.plot(wavelengths, reg_conts * regularization_grad(power_spectrum), c=\"g\", label=\"regularisation\")\n",
    "plt.plot(wavelengths, data_grad(power_spectrum, Z, k0, measured_spectrum, mask), label=\"with mask\")\n",
    "plt.plot(wavelengths, data_grad(power_spectrum, Z, k0, measured_spectrum), c=\"r\", label= \"no mask\")\n",
    "plt.legend()\n",
    "plt.show()\n"
   ]
  },
  {
   "cell_type": "code",
   "execution_count": null,
   "metadata": {},
   "outputs": [],
   "source": [
    "rate = 0.2\n",
    "Z_rate = 5e-12\n",
    "K_rate = 1e-2\n",
    "cost = 100"
   ]
  },
  {
   "cell_type": "code",
   "execution_count": null,
   "metadata": {
    "scrolled": true
   },
   "outputs": [],
   "source": [
    "start = time.time()\n",
    "for i in range(1000):\n",
    "    power_spectrum -= rate * (data_grad(power_spectrum, Z, k0, measured_spectrum, mask)\\\n",
    "                                        + reg_conts * regularization_grad(power_spectrum))\n",
    "    power_spectrum = np.maximum(0, power_spectrum) # Force power_spectrum to be non-negative\n",
    "    k0 -= K_rate * K_grad(power_spectrum, Z, k0, measured_spectrum)\n",
    "    Z -= Z_rate * Z_grad(power_spectrum, Z, k0, measured_spectrum)\n",
    "    k0 = max(0.00001, k0)\n",
    "    if cost < data_fidelity(power_spectrum, Z, k0, measured_spectrum):\n",
    "        rate = 0.5 * rate\n",
    "        Z_rate = 0.5 * Z_rate\n",
    "        K_rate = 0.5 * K_rate\n",
    "        display(\"lowering the rate\")\n",
    "    cost = data_fidelity(power_spectrum, Z, k0, measured_spectrum)\n",
    "    if i % 10 == 0:\n",
    "        clear_output(wait=True)\n",
    "        display(f'Iteration {i} Cost: {cost/np.linalg.norm(measured_spectrum)}')\n",
    "\n",
    "print(f\"time: {time.time() - start:.2f}s\")"
   ]
  },
  {
   "cell_type": "code",
   "execution_count": null,
   "metadata": {},
   "outputs": [],
   "source": [
    "fig, (ax1, ax2, ax3, ax4) = plt.subplots(1, 4, figsize=(16, 4))\n",
    "\n",
    "show_spectrum(wavelengths, measured_spectrum, show_background=True, ax=ax1)\n",
    "show_spectrum(wavelengths, power_spectrum, show_background=True, ax=ax2)\n",
    "\n",
    "depths = np.linspace(0,Z,200)\n",
    "show_lippmann_transform(depths, lippmann_transform(wavelengths, measured_spectrum, depths, r=r, k0=k0)[0], ax=ax3, short_display=True)\n",
    "\n",
    "show_spectrum(wavelengths, forward_model(power_spectrum, k0=k0, Z=Z), show_background=True, ax=ax4)\n",
    "ax1.set_title(\"Reflected spectrum\")\n",
    "ax2.set_title(\"Curent estimate\")\n",
    "ax3.set_title(\"Pattern\")\n",
    "ax4.set_title(\"Re-estimated reflected spectrum\")\n",
    "plt.show()"
   ]
  },
  {
   "cell_type": "code",
   "execution_count": null,
   "metadata": {},
   "outputs": [],
   "source": [
    "print(Z)\n",
    "print(k0)"
   ]
  },
  {
   "cell_type": "code",
   "execution_count": null,
   "metadata": {},
   "outputs": [],
   "source": [
    "plt.figure(figsize=(5,5))\n",
    "plt.plot(wavelengths, measured_spectrum, label=\"measured\")\n",
    "plt.plot(wavelengths, forward_model(power_spectrum, k0=k0, Z=Z), \"r\", label=\"re-estimated\")\n",
    "plt.legend()\n",
    "plt.show()"
   ]
  },
  {
   "cell_type": "code",
   "execution_count": null,
   "metadata": {},
   "outputs": [],
   "source": []
  },
  {
   "cell_type": "code",
   "execution_count": null,
   "metadata": {},
   "outputs": [],
   "source": []
  }
 ],
 "metadata": {
  "kernelspec": {
   "display_name": "Python 3",
   "language": "python",
   "name": "python3"
  },
  "language_info": {
   "codemirror_mode": {
    "name": "ipython",
    "version": 3
   },
   "file_extension": ".py",
   "mimetype": "text/x-python",
   "name": "python",
   "nbconvert_exporter": "python",
   "pygments_lexer": "ipython3",
   "version": "3.8.5"
  }
 },
 "nbformat": 4,
 "nbformat_minor": 4
}

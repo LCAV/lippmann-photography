{
 "cells": [
  {
   "cell_type": "markdown",
   "metadata": {},
   "source": [
    "# Prism simulation\n",
    "\n",
    "Here we describe a very simple raytracer to simulate the effect of a prism for specular reflections.\n",
    "\n",
    "## Prism equations\n",
    "\n",
    "cf. [Wikipedia](https://en.wikipedia.org/wiki/Prism)\n",
    "\n",
    "$\\theta_0' = \\arcsin \\left(\\frac{n_0}{n_1}\\sin \\theta_0 \\right)$\n",
    "\n",
    "$\\theta_1  = \\alpha-\\theta_0'$\n",
    "\n",
    "$\\theta_1' = \\arcsin \\left(\\frac{n_1}{n_2}\\sin \\theta_1 \\right)$\n",
    "\n",
    "$\\theta_2  = \\theta_1' - \\alpha$\n",
    "\n",
    "![alt text](https://upload.wikimedia.org/wikipedia/commons/7/7d/Prism_ray_trace.svg)"
   ]
  },
  {
   "cell_type": "code",
   "execution_count": 4,
   "metadata": {
    "collapsed": false
   },
   "outputs": [
    {
     "name": "stdout",
     "output_type": "stream",
     "text": [
      "Populating the interactive namespace from numpy and matplotlib\n"
     ]
    }
   ],
   "source": [
    "%pylab inline"
   ]
  },
  {
   "cell_type": "code",
   "execution_count": 5,
   "metadata": {
    "collapsed": false
   },
   "outputs": [
    {
     "data": {
      "image/png": "[encoded data removed]",
      "text/plain": [
       "<matplotlib.figure.Figure at 0x1193af128>"
      ]
     },
     "metadata": {},
     "output_type": "display_data"
    },
    {
     "name": "stdout",
     "output_type": "stream",
     "text": [
      "reflection angle nan\n",
      "viewing angle:  -45.80466255761008\n",
      "light angle:  nan\n"
     ]
    }
   ],
   "source": [
    "import matplotlib.pyplot as plt\n",
    "import seaborn as sns\n",
    "import numpy as np\n",
    "from math import radians, degrees\n",
    "\n",
    "from ipywidgets import interact, FloatSlider\n",
    "\n",
    "sns.set_palette('Blues_r')\n",
    "sns.set_context(\"notebook\")\n",
    "sns.set_style(\"whitegrid\")\n",
    "\n",
    "def intersect_lines(line_0, line_1):\n",
    "    #intersect two lines of the form line_i = (ai, bi) such that y = ai*x + bi\n",
    "    \n",
    "    a0 = line_0[0]\n",
    "    b0 = line_0[1]\n",
    "    a1 = line_1[0]\n",
    "    b1 = line_1[1]\n",
    "    \n",
    "    if(a0 == a1):\n",
    "        return (None, None)\n",
    "    else:\n",
    "        x = (b1-b0)/(a0-a1)\n",
    "        y = a0*x+b0\n",
    "        return(x,y)\n",
    "    \n",
    "def get_line_from_point_angle(p, angle):\n",
    "    \n",
    "    a = np.tan(angle)\n",
    "    b = p[1]-a*p[0]\n",
    "    return (a,b)\n",
    "    \n",
    "\n",
    "def compute_thetas_from_theta_0_prime(theta_0_prime, alpha, n1, n2):\n",
    "    theta_1       = alpha-theta_0_prime\n",
    "    theta_1_prime = np.arcsin(n1/n2*np.sin(theta_1))\n",
    "    theta_2       = theta_1_prime-alpha\n",
    "    \n",
    "    return theta_1, theta_1_prime, theta_2\n",
    "\n",
    "def evaluate_line_x(line,x):\n",
    "    a = line[0]\n",
    "    b = line[1]\n",
    "    return a*x + b\n",
    "\n",
    "def evaluate_line_y(line,y):\n",
    "    a = line[0]\n",
    "    b = line[1]\n",
    "    if a == 0:\n",
    "        return None\n",
    "    else:\n",
    "        return (y-b)/a\n",
    "    \n",
    "def plot_prism(theta_0_prime):\n",
    "    \n",
    "    #convert to radians\n",
    "    theta_0_prime = radians(theta_0_prime)\n",
    "    alpha = radians(10)\n",
    "    n1    = 1.45\n",
    "    n2    = 1.0002\n",
    "    \n",
    "    plt.figure(figsize=(12, 6), dpi=300)\n",
    "    plt.axes()\n",
    "\n",
    "    floor  = plt.Rectangle((-1.1, -0.1), 2.2, 0.1)\n",
    "    prism  = plt.Polygon([[-1,0], [1,0], [1,2*np.tan(alpha)] ], fc='#2d82b1', alpha=0.4)\n",
    "    plt.gca().add_patch(floor)\n",
    "    plt.gca().add_patch(prism)\n",
    "    \n",
    "    # PRISM INTERFACE\n",
    "    prism_line            = get_line_from_point_angle((-1, 0), alpha)\n",
    "    prism_incoming_light  = get_line_from_point_angle((0, 0), np.pi/2 - theta_0_prime)\n",
    "    prism_reflected_light = get_line_from_point_angle((0, 0), np.pi/2 + theta_0_prime)\n",
    "    \n",
    "    p0 = intersect_lines(prism_line, prism_incoming_light)\n",
    "    p1 = intersect_lines(prism_line, prism_reflected_light)\n",
    "\n",
    "    prism_incoming_light_line = plt.Line2D((0, p0[0]), (0, p0[1]), lw=2.)\n",
    "    prism_reflected_light_line = plt.Line2D((0, p1[0]), (0, p1[1]), lw=2.)\n",
    "    plt.gca().add_line(prism_incoming_light_line)\n",
    "    plt.gca().add_line(prism_reflected_light_line)\n",
    "    \n",
    "    # AIR INTERFACE\n",
    "    t1_0, t1p_0, t2_0 = compute_thetas_from_theta_0_prime(-theta_0_prime, alpha, n1, n2)\n",
    "    t1_1, t1p_1, t2_1 = compute_thetas_from_theta_0_prime(theta_0_prime, alpha, n1, n2)\n",
    "    \n",
    "    air_incoming_light  = get_line_from_point_angle(p0, np.pi/2 - t2_0)\n",
    "    air_reflected_light = get_line_from_point_angle(p1, np.pi/2 - t2_1)\n",
    "    \n",
    "    y  = 2\n",
    "    q0 = (evaluate_line_y(air_incoming_light, y), y)\n",
    "    q1 = (evaluate_line_y(air_reflected_light, y), y)\n",
    "    \n",
    "    air_incoming_light_line = plt.Line2D((p0[0], q0[0]), (p0[1], q0[1]), lw=2.)\n",
    "    air_reflected_light_line = plt.Line2D((p1[0], q1[0]), (p1[1], q1[1]), lw=2.)\n",
    "    plt.gca().add_line(air_incoming_light_line)\n",
    "    plt.gca().add_line(air_reflected_light_line)\n",
    "    \n",
    "    #SURFACE REFLECTION\n",
    "    mirror_angle =  t2_0 + np.pi/2+2*alpha\n",
    "    air_surface_reflected_light = get_line_from_point_angle(p1, mirror_angle)\n",
    "    if mirror_angle < np.pi:\n",
    "        r = (evaluate_line_y(air_surface_reflected_light, y), y)\n",
    "    else:\n",
    "        r = (evaluate_line_y(air_surface_reflected_light, -y), -y)\n",
    "    air_surface_reflected_light_line = plt.Line2D((p0[0], r[0]), (p0[1], r[1]), lw=2., c='r', alpha=0.3)\n",
    "    plt.gca().add_line(air_surface_reflected_light_line)\n",
    "    \n",
    "\n",
    "    plt.axis([ -1.1,1.1,-0.1,1] )\n",
    "    plt.show()\n",
    "    \n",
    "    print('reflection angle', degrees(t2_0 + 2*alpha) )\n",
    "    print('viewing angle: ', degrees(t2_1))\n",
    "    print('light angle: ', degrees(t2_0))\n",
    "    \n",
    "interact( plot_prism, theta_0_prime=FloatSlider(min=0., max=50., step=0.1, value=0., description='theta_i (deg)') )\n",
    "    \n",
    "    "
   ]
  },
  {
   "cell_type": "code",
   "execution_count": 15,
   "metadata": {
    "collapsed": false
   },
   "outputs": [
    {
     "data": {
      "text/plain": [
       "(10.0, 0.0)"
      ]
     },
     "execution_count": 15,
     "metadata": {},
     "output_type": "execute_result"
    }
   ],
   "source": [
    "from math import degrees, radians\n",
    "\n",
    "def from_viewing_angle_to_theta_i(theta_2, alpha, n1, n2, deg=True):\n",
    "    \n",
    "    #convert to radians\n",
    "    if deg:\n",
    "        theta_2 = radians(theta_2)\n",
    "        alpha   = radians(alpha)\n",
    "    \n",
    "    theta_1_prime = theta_2+alpha\n",
    "    theta_1       = np.arcsin(n2/n1*np.sin(theta_1_prime))\n",
    "    theta_0_prime = alpha-theta_1\n",
    "\n",
    "    if deg:\n",
    "        return degrees(theta_0_prime), degrees(theta_1_prime)\n",
    "    else:\n",
    "        return theta_0_prime, theta_1_prime\n",
    "    \n",
    "    \n",
    "from_viewing_angle_to_theta_i(-10, 10, 1.45, 1.0002)\n",
    "    "
   ]
  },
  {
   "cell_type": "code",
   "execution_count": 10,
   "metadata": {
    "collapsed": false
   },
   "outputs": [
    {
     "data": {
      "text/plain": [
       "45.572995999194298"
      ]
     },
     "execution_count": 10,
     "metadata": {},
     "output_type": "execute_result"
    }
   ],
   "source": [
    "\n",
    "\n",
    "arccos(0.7)/(2*np.pi)*360"
   ]
  },
  {
   "cell_type": "code",
   "execution_count": null,
   "metadata": {
    "collapsed": true
   },
   "outputs": [],
   "source": []
  }
 ],
 "metadata": {
  "anaconda-cloud": {},
  "hide_input": false,
  "kernelspec": {
   "display_name": "Python [Root]",
   "language": "python",
   "name": "Python [Root]"
  },
  "language_info": {
   "codemirror_mode": {
    "name": "ipython",
    "version": 3
   },
   "file_extension": ".py",
   "mimetype": "text/x-python",
   "name": "python",
   "nbconvert_exporter": "python",
   "pygments_lexer": "ipython3",
   "version": "3.5.2"
  },
  "latex_envs": {
   "bibliofile": "biblio.bib",
   "cite_by": "apalike",
   "current_citInitial": 1,
   "eqLabelWithNumbers": true,
   "eqNumInitial": 0
  }
 },
 "nbformat": 4,
 "nbformat_minor": 0
}

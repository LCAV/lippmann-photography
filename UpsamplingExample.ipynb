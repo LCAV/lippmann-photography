{
 "cells": [
  {
   "cell_type": "markdown",
   "metadata": {},
   "source": [
    "# Example of clever upsampling\n",
    "\n",
    "Human eye is more sensitive to the value variation than to hue variation. As inverting the Lippmann spectrum is costly, to speed up the computation one can calculate the specturm (and hence hue) on a sparse grid, and combine it whith orignal (dense) value.\n",
    "\n",
    "This notebook shows example of downsampling and upsampling, without the inverting the spectrum."
   ]
  },
  {
   "cell_type": "code",
   "execution_count": null,
   "metadata": {},
   "outputs": [],
   "source": [
    "import matplotlib.pyplot as plt\n",
    "import numpy as np\n",
    "from skimage import data, io\n",
    "\n",
    "import hue_upsampling as hu\n",
    "\n",
    "\n",
    "n_samples = 32\n",
    "caller = getattr(data, 'astronaut')\n",
    "image = caller()\n",
    "n_ticks = 3\n",
    "\n",
    "result, mask, im_size = hu.sample_image(image, n_samples=n_samples, dot_radius_mm=0.6, width_mm=700)\n",
    "print(\"Downsampled\")\n",
    "order1 = 0\n",
    "upsampled1 = hu.clever_upsample(image, result, order1)\n",
    "print(f\"Upsampled {order1}\")\n",
    "order2 = 3\n",
    "upsampled2 = hu.clever_upsample(image, result, order2)\n",
    "print(f\"Upsampled {order2}\")"
   ]
  },
  {
   "cell_type": "code",
   "execution_count": null,
   "metadata": {},
   "outputs": [],
   "source": [
    "np.set_printoptions(precision=3)\n",
    "\n",
    "fig, axes = plt.subplots(1, 4, figsize=(16, 4))\n",
    "\n",
    "axes[0].imshow(image)\n",
    "axes[0].set_title(\"original-cropped\")\n",
    "hu.set_ticks_in_mm(axes, 0, image, im_size, n_ticks)\n",
    "\n",
    "axes[1].imshow(result)\n",
    "axes[1].set_title(f\"sampled image {n_samples}x{n_samples}\")\n",
    "hu.set_ticks_in_mm(axes, 1, result, im_size, n_ticks)\n",
    "\n",
    "\n",
    "axes[2].imshow(upsampled1)\n",
    "axes[2].set_title(f\"upsampled, order {order1}\")\n",
    "hu.set_ticks_in_mm(axes, 2, upsampled1, im_size, n_ticks)\n",
    "\n",
    "axes[3].imshow(upsampled2)\n",
    "axes[3].set_title(f\"upsampled, order {order2}\")\n",
    "hu.set_ticks_in_mm(axes, 3, upsampled2, im_size, n_ticks)\n",
    "plt.show()"
   ]
  },
  {
   "cell_type": "code",
   "execution_count": null,
   "metadata": {},
   "outputs": [],
   "source": []
  }
 ],
 "metadata": {
  "kernelspec": {
   "display_name": "Python 3 (ipykernel)",
   "language": "python",
   "name": "python3"
  },
  "language_info": {
   "codemirror_mode": {
    "name": "ipython",
    "version": 3
   },
   "file_extension": ".py",
   "mimetype": "text/x-python",
   "name": "python",
   "nbconvert_exporter": "python",
   "pygments_lexer": "ipython3",
   "version": "3.9.7"
  }
 },
 "nbformat": 4,
 "nbformat_minor": 2
}

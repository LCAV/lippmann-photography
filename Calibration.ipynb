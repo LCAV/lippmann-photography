{
 "cells": [
  {
   "cell_type": "code",
   "execution_count": null,
   "metadata": {},
   "outputs": [],
   "source": [
    "import matplotlib.pyplot as plt\n",
    "import numpy as np\n",
    "import pickle\n",
    "import scipy as sp\n",
    "from skimage import data, io, filters\n",
    "from skimage.color import rgb2hsv, hsv2rgb, xyz2rgb\n",
    "from skimage import data, img_as_float\n",
    "from skimage import exposure\n",
    "\n",
    "from lippmann import show_spectrum, show_lippmann_transform, lippmann_transform\n",
    "from display_spectral_data import load_specim_data\n",
    "from color_tools import upsample_hue_saturation, from_spectrum_to_xyz, from_xyz_to_rgb\n",
    "from spectrum import Spectrum3D\n",
    "import spectrum_recovery_pool as recov"
   ]
  },
  {
   "cell_type": "markdown",
   "metadata": {},
   "source": [
    "### Warning: data has to be downloaded from SWITCH drive (shared by Arnaud)"
   ]
  },
  {
   "cell_type": "code",
   "execution_count": null,
   "metadata": {},
   "outputs": [],
   "source": [
    "name = \"color_checker\" # prefix of the file with data and results \n",
    "\n",
    "downsampled, wavelengths = load_specim_data(\"Cubes_ours/\" + name, 1, cut=False)\n",
    "reference_name = \"WHITEREF_1230\""
   ]
  },
  {
   "cell_type": "code",
   "execution_count": null,
   "metadata": {},
   "outputs": [],
   "source": [
    "data = np.fromfile(f\"Cubes_ours/color_checker_all/capture/{reference_name}.raw\", dtype=np.int16)"
   ]
  },
  {
   "cell_type": "code",
   "execution_count": null,
   "metadata": {},
   "outputs": [],
   "source": [
    "data = data.reshape(204, -1)\n",
    "data.shape"
   ]
  },
  {
   "cell_type": "code",
   "execution_count": null,
   "metadata": {},
   "outputs": [],
   "source": [
    "plt.figure(figsize=(5,5))\n",
    "plt.plot(wavelengths, data[:, 0], label=\"0,0\")\n",
    "plt.plot(wavelengths, data[:, 10], label=\"10, 10\", c=\"r\")\n",
    "plt.legend()\n",
    "plt.show()"
   ]
  },
  {
   "cell_type": "code",
   "execution_count": null,
   "metadata": {},
   "outputs": [],
   "source": [
    "plt.plot(data[10].flatten(), label=f\"wavelength: {wavelengths[10]:.2e}\")\n",
    "plt.plot(data[200].flatten(), c=\"r\", label=f\"wavelength: {wavelengths[200]:.2e}\")\n",
    "plt.legend()\n",
    "plt.show()"
   ]
  },
  {
   "cell_type": "code",
   "execution_count": null,
   "metadata": {},
   "outputs": [],
   "source": [
    "np.savetxt(f\"PNAS//{reference_name}.csv\", data)"
   ]
  }
 ],
 "metadata": {
  "kernelspec": {
   "display_name": "Python 3",
   "language": "python",
   "name": "python3"
  },
  "language_info": {
   "codemirror_mode": {
    "name": "ipython",
    "version": 3
   },
   "file_extension": ".py",
   "mimetype": "text/x-python",
   "name": "python",
   "nbconvert_exporter": "python",
   "pygments_lexer": "ipython3",
   "version": "3.8.5"
  }
 },
 "nbformat": 4,
 "nbformat_minor": 4
}

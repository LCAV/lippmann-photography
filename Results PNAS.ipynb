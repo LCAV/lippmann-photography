{
 "cells": [
  {
   "cell_type": "code",
   "execution_count": null,
   "metadata": {},
   "outputs": [],
   "source": [
    "import matplotlib.pyplot as plt\n",
    "import numpy as np\n",
    "import pickle\n",
    "from skimage import data, io, filters\n",
    "from skimage.color import rgb2hsv, hsv2rgb, xyz2rgb\n",
    "from skimage import data, img_as_float\n",
    "from skimage import exposure\n",
    "\n",
    "from lippmann import show_spectrum\n",
    "from display_spectral_data import load_specim_data\n",
    "from color_tools import upsample_hue_saturation, from_spectrum_to_xyz, from_xyz_to_rgb\n",
    "from spectrum import Spectrum3D\n"
   ]
  },
  {
   "cell_type": "markdown",
   "metadata": {},
   "source": [
    "### Warning: data has to be downloaded from SWITCH drive (shared by Arnaud)"
   ]
  },
  {
   "cell_type": "code",
   "execution_count": null,
   "metadata": {},
   "outputs": [],
   "source": [
    "name = \"parrot\" # prefix of the file with data and results \n",
    "\n",
    "# directory = \"visible_only\"\n",
    "# directory = \"full_estimate_depth\"\n",
    "directory = 0 # name of the directory in which the results are stored (number o string)\n",
    "\n",
    "results_path = f\"PNAS/{directory}/{name}\"\n",
    "\n",
    "c0 = 299792458\n",
    "n0 = 1.5\n",
    "c = c0 / n0\n",
    "\n",
    "result = np.load(f\"{results_path}.npy\")\n",
    "with open(f\"{results_path}.pkl\", \"rb\") as pickled_params:\n",
    "    params = pickle.load(pickled_params)\n",
    "\n",
    "if \"downsampling\" in params:\n",
    "    ds = params[\"downsampling\"]\n",
    "else:\n",
    "    ds = 25\n",
    "    \n",
    "# if the data is stored in \"Cubes\"     \n",
    "downsampled, wavelengths = load_specim_data(\"Cubes/\" + name, ds, cut=True)\n",
    "\n",
    "\n",
    "if params[\"visible\"]: #TODO what should be there? \n",
    "    omegas_est = np.linspace(2 * np.pi * c / 400E-9, 2 * np.pi * c / 700E-9, result.shape[2])\n",
    "    print(\"Restricting spectrum to visible\")\n",
    "else:\n",
    "    omegas_rec = 2 * np.pi * c / wavelengths\n",
    "    omegas_est = np.linspace(np.max(omegas_rec), np.min(omegas_rec), result.shape[2])\n",
    "wavelengths_est = 2 * np.pi * c / omegas_est"
   ]
  },
  {
   "cell_type": "code",
   "execution_count": null,
   "metadata": {
    "scrolled": false
   },
   "outputs": [],
   "source": [
    "print(\"Experiment setup\")\n",
    "print_params = params.copy()\n",
    "\n",
    "if \"estimate_depth\" in params:\n",
    "    if params[\"estimate_depth\"]:\n",
    "        plt.matshow(params[\"Z_estimates\"])\n",
    "        plt.colorbar()\n",
    "        plt.savefig(f\"{results_path}_z.pdf\")\n",
    "        plt.show()\n",
    "        print_params.pop(\"Z_estimates\")\n",
    "print(print_params)"
   ]
  },
  {
   "cell_type": "code",
   "execution_count": null,
   "metadata": {},
   "outputs": [],
   "source": [
    "# plt.figure(figsize=(5, 5))\n",
    "# plt.plot(wavelengths, downsampled.reshape((-1, 204)).T)\n",
    "# plt.show()"
   ]
  },
  {
   "cell_type": "code",
   "execution_count": null,
   "metadata": {},
   "outputs": [],
   "source": [
    "fig, (ax1, ax2) = plt.subplots(1, 2, figsize=(10, 5))\n",
    "\n",
    "show_spectrum(wavelengths, downsampled[7, 7, :], show_background=True, short_display=True, ax=ax1)\n",
    "show_spectrum(wavelengths_est, result[7, 7, :], show_background=True, short_display=True, ax=ax2)\n",
    "ax1.set_title(\"original spectrum\")\n",
    "title = f\"Z: {params['Z']}, N: {params['N']}, Visible: {params['visible']}\"\n",
    "if \"estimate_depth\" in params and params[\"estimate_depth\"]:\n",
    "    title += f\", Z est: {params['Z_estimates'][7, 7]:.2e}\"\n",
    "ax2.set_title(title)\n",
    "plt.savefig(f\"{results_path}_point.pdf\")\n",
    "plt.show()"
   ]
  },
  {
   "cell_type": "markdown",
   "metadata": {},
   "source": [
    "### Question:\n",
    "Why do we get negative numbers there?"
   ]
  },
  {
   "cell_type": "code",
   "execution_count": null,
   "metadata": {},
   "outputs": [],
   "source": [
    "recorded_xyz = from_spectrum_to_xyz(wavelengths, downsampled, normalize=False)\n",
    "recorded_xyz = recorded_xyz / np.min(np.sum(recorded_xyz, axis=2))\n",
    "recorded_rgb = from_xyz_to_rgb(recorded_xyz)\n",
    "\n",
    "estimated_xyz = from_spectrum_to_xyz(wavelengths_est, result, normalize=False)\n",
    "estimated_xyz = estimated_xyz / np.min(np.sum(estimated_xyz, axis=2))\n",
    "estimated_rgb = from_xyz_to_rgb(estimated_xyz)\n",
    "\n",
    "fig, (ax1, ax2) = plt.subplots(1, 2, figsize=(10, 5))\n",
    "ax1.imshow(recorded_rgb)\n",
    "ax2.imshow(estimated_rgb)\n",
    "ax1.set_title(\"original colors\")\n",
    "ax2.set_title(title)\n",
    "plt.savefig(f\"{results_path}_low_res.pdf\")\n",
    "plt.show()"
   ]
  },
  {
   "cell_type": "code",
   "execution_count": null,
   "metadata": {},
   "outputs": [],
   "source": [
    "image = io.imread(\"Cubes/\" + name + \".png\")\n",
    "image = np.swapaxes(image[:, ::-1, :3], 1, 0)\n",
    "cut_idx = np.loadtxt(\"Cubes/\" + name + \"_cut.txt\").astype(np.int)\n",
    "image = image[cut_idx[0, 0]:cut_idx[0, 1], cut_idx[1, 0]:cut_idx[1, 1]]\n",
    " \n",
    "image = exposure.adjust_gamma(image, 0.4)\n",
    "plt.figure(figsize=(5, 5))\n",
    "plt.imshow(image)\n",
    "plt.show()"
   ]
  },
  {
   "cell_type": "code",
   "execution_count": null,
   "metadata": {},
   "outputs": [],
   "source": [
    "recorded_upsampled = upsample_hue_saturation(image, recorded_rgb, order=1)\n",
    "estimated_upsampled = upsample_hue_saturation(image, estimated_rgb, order=1)"
   ]
  },
  {
   "cell_type": "code",
   "execution_count": null,
   "metadata": {},
   "outputs": [],
   "source": [
    "fig, (ax1, ax2) = plt.subplots(1, 2, figsize=(10, 5))\n",
    "ax1.imshow(recorded_upsampled)\n",
    "ax2.imshow(estimated_upsampled)\n",
    "plt.show()"
   ]
  },
  {
   "cell_type": "code",
   "execution_count": null,
   "metadata": {},
   "outputs": [],
   "source": [
    "import spectrum_recovery_pool as recov\n",
    "\n",
    "A = recov.generate_matrix_A(omegas_est, 5e-6, r=params[\"r\"])\n",
    "\n",
    "fig, (ax1, ax2, ax3) = plt.subplots(1, 3, figsize=(15, 5))\n",
    "\n",
    "show_spectrum(wavelengths, downsampled[7, 7, :], show_background=True, short_display=True, ax=ax1)\n",
    "show_spectrum(wavelengths_est, result[7, 7, :], show_background=True, short_display=True, ax=ax2)\n",
    "show_spectrum(wavelengths_est, np.abs(A @ result[7, 7, :])**2, show_background=True, short_display=True, ax=ax3)"
   ]
  },
  {
   "cell_type": "code",
   "execution_count": null,
   "metadata": {},
   "outputs": [],
   "source": []
  }
 ],
 "metadata": {
  "kernelspec": {
   "display_name": "Python 3",
   "language": "python",
   "name": "python3"
  },
  "language_info": {
   "codemirror_mode": {
    "name": "ipython",
    "version": 3
   },
   "file_extension": ".py",
   "mimetype": "text/x-python",
   "name": "python",
   "nbconvert_exporter": "python",
   "pygments_lexer": "ipython3",
   "version": "3.8.5"
  }
 },
 "nbformat": 4,
 "nbformat_minor": 4
}

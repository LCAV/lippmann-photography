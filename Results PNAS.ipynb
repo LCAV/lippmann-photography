{
 "cells": [
  {
   "cell_type": "code",
   "execution_count": null,
   "metadata": {},
   "outputs": [],
   "source": [
    "import copy\n",
    "import matplotlib.pyplot as plt\n",
    "from matplotlib.patches import Rectangle\n",
    "import os.path\n",
    "import numpy as np\n",
    "import pickle\n",
    "import scipy as sp\n",
    "from skimage.color import rgb2hsv, hsv2rgb, xyz2rgb\n",
    "from skimage import data, exposure, filters, img_as_float, io\n",
    "\n",
    "\n",
    "from lippmann import show_spectrum, show_lippmann_transform, lippmann_transform\n",
    "from display_spectral_data import load_specim_data, read_file\n",
    "from color_tools import upsample_hue_saturation, from_spectrum_to_xyz, from_xyz_to_rgb\n",
    "from spectrum import Spectrum3D\n",
    "import spectrum_recovery_pool as recov"
   ]
  },
  {
   "cell_type": "markdown",
   "metadata": {},
   "source": [
    "### Load and inspect the resutls of the spectral recovery \n",
    "\n",
    "`name` file name prefix, the same for measured and recovered data\n",
    "\n",
    "`directory` name of the directory in which the results have been stroed"
   ]
  },
  {
   "cell_type": "code",
   "execution_count": null,
   "metadata": {},
   "outputs": [],
   "source": [
    "name = \"other_color_checker\" \n",
    "directory = \"color_checker_2021\" \n",
    "results_path = f\"PNAS/{directory}/{name}\"\n",
    "\n",
    "c0 = 299792458 #TODO import this \n",
    "n0 = 1.5\n",
    "c = c0 / n0\n",
    "\n",
    "result = np.load(f\"{results_path}.npy\")\n",
    "result = np.clip(result, a_min = 0, a_max = np.inf)\n",
    "\n",
    "with open(f\"{results_path}.pkl\", \"rb\") as pickled_params:\n",
    "    params = pickle.load(pickled_params)"
   ]
  },
  {
   "cell_type": "code",
   "execution_count": null,
   "metadata": {},
   "outputs": [],
   "source": [
    "print(\"Experiment setup\")\n",
    "\n",
    "Z = params[\"Z\"]\n",
    "k0 = params[\"k0\"]\n",
    "\n",
    "if \"estimate_depth\" in params:\n",
    "    if params[\"estimate_depth\"]:\n",
    "        plt.matshow(params[\"Z_estimates\"])\n",
    "        plt.colorbar()\n",
    "        plt.savefig(f\"{results_path}_z.pdf\")\n",
    "        plt.show()\n",
    "        params.pop(\"Z_estimates\")\n",
    "        params.pop(\"k0_estimates\")\n",
    "        Z = np.median(params['Z_estimates'])\n",
    "        k0 = np.median(params[\"k0_estimates\"])\n",
    "        print(f\"median depth {Z:.2e}\")\n",
    "        print(f\"median decay {k0}\")\n",
    "print_params = copy.copy(params)\n",
    "print_params.pop(\"errors\")\n",
    "print_params"
   ]
  },
  {
   "cell_type": "code",
   "execution_count": null,
   "metadata": {},
   "outputs": [],
   "source": [
    "plt.matshow(params[\"errors\"])\n",
    "plt.colorbar()\n",
    "plt.show()"
   ]
  },
  {
   "cell_type": "markdown",
   "metadata": {},
   "source": [
    "### Load data from specim camera\n",
    "Stored in `Cubes`"
   ]
  },
  {
   "cell_type": "code",
   "execution_count": null,
   "metadata": {},
   "outputs": [],
   "source": [
    "downsampled, wavelengths = load_specim_data(\"Cubes/\" + name, params[\"downsampling\"], cut=True)\n",
    "\n",
    "omegas_rec = 2 * np.pi * c / wavelengths\n",
    "if params[\"visible\"]: #TODO what should be there? \n",
    "    omegas_est = np.linspace(2 * np.pi * c / 400E-9, 2 * np.pi * c / 700E-9, result.shape[2])\n",
    "    print(\"Restricting spectrum to visible\")\n",
    "else:   \n",
    "    omegas_est = np.linspace(np.max(omegas_rec), np.min(omegas_rec), result.shape[2])\n",
    "wavelengths_est = 2 * np.pi * c / omegas_est"
   ]
  },
  {
   "cell_type": "markdown",
   "metadata": {},
   "source": [
    "### Correct for dyes, if proper file exit\n",
    "\n",
    "We know the dye profile only for the plate whe have made ourselves, i.e. color checker"
   ]
  },
  {
   "cell_type": "code",
   "execution_count": null,
   "metadata": {},
   "outputs": [],
   "source": [
    "if os.path.isfile(f'Cubes/{name}_Transmission_Reference.txt'):\n",
    "\n",
    "    w, trans, _ = read_file(f'Cubes/{name}_Transmission_Reference.txt')\n",
    "    w, trans_glass, _ = read_file(f'Cubes/{name}_Transmission_OnlyGlass.txt')\n",
    "    dyes = (trans_glass - trans)\n",
    "\n",
    "    dyes_interpolated = np.interp(wavelengths_est, w, dyes)\n",
    "    dyes_interpolated = dyes_interpolated/np.max(dyes_interpolated)\n",
    "    show_spectrum(wavelengths_est, dyes_interpolated, show_background=True, short_display=True, visible=False)\n",
    "    plt.title(\"dye profile\")\n",
    "    plt.show()\n",
    "\n",
    "    dye_corrected = result / dyes_interpolated[None, None, ]\n",
    "else:\n",
    "    dye_corrected = result"
   ]
  },
  {
   "cell_type": "markdown",
   "metadata": {},
   "source": [
    "### Show the recorded and reconstructed colors of the plate"
   ]
  },
  {
   "cell_type": "code",
   "execution_count": null,
   "metadata": {},
   "outputs": [],
   "source": [
    "def spectrum_to_rgb(wavelengths, spectrum):\n",
    "    spectrum_xyz = from_spectrum_to_xyz(wavelengths, spectrum, normalize=False)\n",
    "    spectrum_xyz = spectrum_xyz / np.min(np.sum(spectrum_xyz, axis=2))\n",
    "    return from_xyz_to_rgb(spectrum_xyz)\n",
    "\n",
    "\n",
    "recorded_rgb = spectrum_to_rgb(wavelengths, downsampled)\n",
    "estimated_rgb = spectrum_to_rgb(wavelengths_est, dye_corrected)\n",
    "pixel = (70, 80)\n",
    "true_pixel = (25, 25)\n",
    "\n",
    "fig, (ax0, ax1, ax2) = plt.subplots(1, 3, figsize=(10, 5))\n",
    "\n",
    "true_path = \"Cubes/\" + name + \"_true\"\n",
    "if os.path.isfile(true_path + \".dat\"):\n",
    "    ground_truth, _ = load_specim_data(true_path, params[\"downsampling\"], cut=True)\n",
    "    ground_truth_rgb = spectrum_to_rgb(wavelengths, ground_truth)\n",
    "    ax0.imshow(ground_truth_rgb)\n",
    "    true_rect = Rectangle((true_pixel[1] - 0.5, true_pixel[0] - 0.5), 1, 1, alpha=1, color=\"none\", ec=\"white\", lw=2,zorder=10)\n",
    "    ax0.add_patch(true_rect)\n",
    "ax1.imshow(recorded_rgb)\n",
    "ax2.imshow(estimated_rgb)\n",
    "ax0.set_title(\"Ground trugh (RGB)\")\n",
    "ax1.set_title(\"Recorded\")\n",
    "ax2.set_title(\"Reconstructed\")\n",
    "rect = Rectangle((pixel[1] - 0.5, pixel[0] - 0.5), 1, 1, alpha=1, color=\"none\", ec=\"white\", lw=2,zorder=10)\n",
    "rect2 = Rectangle((pixel[1] - 0.5, pixel[0] - 0.5), 1, 1, alpha=1, color=\"none\", ec=\"white\", lw=2,zorder=10)\n",
    "ax1.add_patch(rect)\n",
    "ax2.add_patch(rect2)\n",
    "plt.show()\n",
    "\n",
    "plt.imsave(results_path + \"_estimated.png\", estimated_rgb)"
   ]
  },
  {
   "cell_type": "markdown",
   "metadata": {},
   "source": [
    "### Inspect spectra at a single pixel \n",
    "Pixel is choosen in the cella bove an visualised as a white box"
   ]
  },
  {
   "cell_type": "code",
   "execution_count": null,
   "metadata": {},
   "outputs": [],
   "source": [
    "fig, (ax0, ax1, ax2, ax3, ax4) = plt.subplots(1, 5, figsize=(15, 3))\n",
    "\n",
    "show_spectrum(wavelengths, downsampled[pixel], show_background=True, short_display=True, ax=ax1, visible=True)\n",
    "show_spectrum(wavelengths_est, dye_corrected[pixel], show_background=True, short_display=True, ax=ax2, visible=True)\n",
    "\n",
    "depths = np.linspace(0,Z,200)\n",
    "show_lippmann_transform(depths, lippmann_transform(wavelengths_est, result[pixel], depths, r=params[\"r\"], k0=k0)[0], ax=ax3, short_display=True)\n",
    "\n",
    "A = recov.generate_matrix_A(omegas_est, Z, r=params[\"r\"], k0=k0)\n",
    "show_spectrum(wavelengths_est, np.abs(A @ result[pixel])**2, show_background=True, short_display=True, ax=ax4, visible=True)\n",
    "if os.path.isfile(true_path + \".dat\"):\n",
    "    show_spectrum(wavelengths, ground_truth[true_pixel], show_background=True, short_display=True, ax=ax0, visible=True)\n",
    "ax0.set_title(\"Ground truth\")    \n",
    "ax1.set_title(\"Reflected spectrum\")\n",
    "ax2.set_title(\"Reconstruced spectrum\")\n",
    "ax3.set_title(\"Pattern\")\n",
    "ax4.set_title(\"Re-estimated reflected spectrum\")\n",
    "plt.show()"
   ]
  },
  {
   "cell_type": "markdown",
   "metadata": {},
   "source": [
    "### Upsample recorded and reconstructed images to full resolution\n",
    "Using a .png photo of the plate, run only if `downsampling` is not one\n",
    "\n",
    "this is only a visualisation tool, so adjust `gamma` and `gain` for the images to look good:"
   ]
  },
  {
   "cell_type": "code",
   "execution_count": null,
   "metadata": {},
   "outputs": [],
   "source": [
    "if params[\"downsampling\"] > 1:\n",
    "    image = io.imread(\"Cubes/\" + name + \".png\")\n",
    "    image = np.swapaxes(image[:, ::-1, :3], 1, 0)\n",
    "    if os.path.exists(\"Cubes/\" + name + \"_cut.txt\"):\n",
    "        cut_idx = np.loadtxt(\"Cubes/\" + name + \"_cut.txt\").astype(np.int)\n",
    "        image = image[cut_idx[0, 0]:cut_idx[0, 1], cut_idx[1, 0]:cut_idx[1, 1]]\n",
    "\n",
    "    gamma = 0.5\n",
    "    gain = 1.5\n",
    "    image = exposure.adjust_gamma(image, gamma, gain)\n",
    "\n",
    "    recorded_upsampled = upsample_hue_saturation(image, recorded_rgb, order=1)\n",
    "    estimated_upsampled = upsample_hue_saturation(image, estimated_rgb, order=1)\n",
    "\n",
    "    fig, (ax0, ax1, ax2) = plt.subplots(1, 3, figsize=(10, 5))\n",
    "    ax0.imshow(image)\n",
    "    ax0.set_title(\"Photo of a plate\")\n",
    "    ax1.imshow(recorded_upsampled)\n",
    "    ax1.set_title(\"Upsampled recording\")\n",
    "    ax2.imshow(estimated_upsampled)\n",
    "    ax2.set_title(\"Upsampled reconstruction\")\n",
    "    plt.show()\n",
    "    plt.imsave(results_path + \"_estimated_upsampled.png\", estimated_upsampled)"
   ]
  },
  {
   "cell_type": "code",
   "execution_count": null,
   "metadata": {},
   "outputs": [],
   "source": []
  }
 ],
 "metadata": {
  "kernelspec": {
   "display_name": "Python 3",
   "language": "python",
   "name": "python3"
  },
  "language_info": {
   "codemirror_mode": {
    "name": "ipython",
    "version": 3
   },
   "file_extension": ".py",
   "mimetype": "text/x-python",
   "name": "python",
   "nbconvert_exporter": "python",
   "pygments_lexer": "ipython3",
   "version": "3.8.5"
  }
 },
 "nbformat": 4,
 "nbformat_minor": 4
}

{
 "cells": [
  {
   "cell_type": "code",
   "execution_count": null,
   "metadata": {},
   "outputs": [],
   "source": [
    "import matplotlib.pyplot as plt\n",
    "import numpy as np\n",
    "import pickle\n",
    "import scipy as sp\n",
    "from skimage import data, io, filters\n",
    "from skimage.color import rgb2hsv, hsv2rgb, xyz2rgb\n",
    "from skimage import data, img_as_float\n",
    "from skimage import exposure\n",
    "\n",
    "from lippmann import show_spectrum, show_lippmann_transform, lippmann_transform\n",
    "from display_spectral_data import load_specim_data\n",
    "from color_tools import upsample_hue_saturation, from_spectrum_to_xyz, from_xyz_to_rgb\n",
    "from spectrum import Spectrum3D\n",
    "import spectrum_recovery_pool as recov"
   ]
  },
  {
   "cell_type": "markdown",
   "metadata": {},
   "source": [
    "### Warning: data has to be downloaded from SWITCH drive (shared by Arnaud)"
   ]
  },
  {
   "cell_type": "code",
   "execution_count": null,
   "metadata": {},
   "outputs": [],
   "source": [
    "name = \"parrot\" # prefix of the file with data and results \n",
    "\n",
    "directory = \"mercury_high_res\" # name of the directory in which the results are stored (number o string)\n",
    "\n",
    "results_path = f\"PNAS/{directory}/{name}\"\n",
    "\n",
    "c0 = 299792458\n",
    "n0 = 1.5\n",
    "c = c0 / n0\n",
    "\n",
    "result = np.load(f\"{results_path}.npy\")\n",
    "negative_rato = np.min(result)/np.max(result)\n",
    "if negative_rato < 0:\n",
    "    print(f\"there are negative values in power spectrum of magnitude {negative_rato}\")\n",
    "result = np.clip(result, a_min = 0, a_max = np.inf)\n",
    "with open(f\"{results_path}.pkl\", \"rb\") as pickled_params:\n",
    "    params = pickle.load(pickled_params)\n",
    "\n",
    "if \"downsampling\" in params:\n",
    "    ds = params[\"downsampling\"]\n",
    "else:\n",
    "    ds = 25\n",
    "    \n",
    "# if the data is stored in \"Cubes\"     \n",
    "downsampled, wavelengths = load_specim_data(\"Cubes/\" + name, ds, cut=True)\n",
    "\n",
    "omegas_rec = 2 * np.pi * c / wavelengths\n",
    "if params[\"visible\"]: #TODO what should be there? \n",
    "    omegas_est = np.linspace(2 * np.pi * c / 400E-9, 2 * np.pi * c / 700E-9, result.shape[2])\n",
    "    print(\"Restricting spectrum to visible\")\n",
    "else:   \n",
    "    omegas_est = np.linspace(np.max(omegas_rec), np.min(omegas_rec), result.shape[2])\n",
    "wavelengths_est = 2 * np.pi * c / omegas_est"
   ]
  },
  {
   "cell_type": "code",
   "execution_count": null,
   "metadata": {
    "scrolled": false
   },
   "outputs": [],
   "source": [
    "print(\"Experiment setup\")\n",
    "print_params = params.copy()\n",
    "\n",
    "Z = params[\"Z\"]\n",
    "k0 = params[\"k0\"]\n",
    "\n",
    "if \"estimate_depth\" in params:\n",
    "    if params[\"estimate_depth\"]:\n",
    "        plt.matshow(params[\"Z_estimates\"])\n",
    "        plt.colorbar()\n",
    "        plt.savefig(f\"{results_path}_z.pdf\")\n",
    "        plt.show()\n",
    "        print_params.pop(\"Z_estimates\")\n",
    "        print_params.pop(\"k0_estimates\")\n",
    "        Z = np.median(params['Z_estimates'])\n",
    "        k0 = np.median(params[\"k0_estimates\"])\n",
    "        print(f\"median depth {Z:.2e}\")\n",
    "        print(f\"median decay {k0}\")\n",
    "print_params.pop(\"errors\")\n",
    "print_params"
   ]
  },
  {
   "cell_type": "code",
   "execution_count": null,
   "metadata": {},
   "outputs": [],
   "source": [
    "# result_low_res = np.load(f\"{results_path}_low_res.npy\")\n",
    "# fig, (ax1, ax2) = plt.subplots(2, 1, figsize=(5, 4))\n",
    "# print(result_low_res.shape)\n",
    "# ax1.plot(result_low_res[0, 0])\n",
    "# ax1.axhline(0)\n",
    "\n",
    "# F = recov.generate_matrix_F(omegas_est, Z)\n",
    "# ax2.plot(F @ result_low_res[0, 0])\n",
    "# ax2.axhline(0)\n",
    "# plt.show()"
   ]
  },
  {
   "cell_type": "code",
   "execution_count": null,
   "metadata": {},
   "outputs": [],
   "source": [
    "plt.matshow(params[\"errors\"])\n",
    "plt.colorbar()\n",
    "plt.show()"
   ]
  },
  {
   "cell_type": "code",
   "execution_count": null,
   "metadata": {},
   "outputs": [],
   "source": [
    "pixel = (60, 60)\n",
    "\n",
    "\n",
    "def sigmoid(x):\n",
    "    return 1 / (1 + np.exp(-x))\n",
    "\n",
    "mask = np.linspace(-3, 70, len(wavelengths))\n",
    "mask = sigmoid(mask)\n",
    "print(np.min(mask))\n",
    "print(np.max(mask))\n",
    "plt.figure()\n",
    "plt.gca().axhline()\n",
    "show_spectrum(wavelengths, mask, visible=True, ax=plt.gca())"
   ]
  },
  {
   "cell_type": "code",
   "execution_count": null,
   "metadata": {},
   "outputs": [],
   "source": [
    "A = recov.generate_matrix_A(omegas_est, Z, r=params[\"r\"], k0=k0)\n",
    "\n",
    "fig, (ax0, ax1, ax2, ax3, ax4) = plt.subplots(1, 5, figsize=(14, 3))\n",
    "\n",
    "show_spectrum(wavelengths, mask*downsampled[pixel], show_background=True, short_display=True, ax=ax0, visible=True)\n",
    "show_spectrum(wavelengths, downsampled[pixel], show_background=True, short_display=True, ax=ax1, visible=True)\n",
    "show_spectrum(wavelengths_est, result[pixel], show_background=True, short_display=True, ax=ax2, visible=True)\n",
    "\n",
    "depths = np.linspace(0,Z,200)\n",
    "show_lippmann_transform(depths, lippmann_transform(wavelengths_est, result[pixel], depths, r=params[\"r\"], k0=k0)[0], ax=ax3, short_display=True)\n",
    "\n",
    "show_spectrum(wavelengths_est, np.abs(A @ result[pixel])**2, show_background=True, short_display=True, ax=ax4, visible=True)\n",
    "ax1.set_title(\"Reflected spectrum\")\n",
    "title = f\"Z: {params['Z']}, N: {params['N']}, Visible: {params['visible']}\"\n",
    "if \"estimate_depth\" in params and params[\"estimate_depth\"]:\n",
    "    title += f\", Z est: {params['Z_estimates'][pixel]:.2e}\"\n",
    "ax2.set_title(title)\n",
    "ax3.set_title(\"Pattern\")\n",
    "ax4.set_title(\"Re-estimated reflected spectrum\")\n",
    "ax0.set_title(\"Reflected masked\")\n",
    "# plt.savefig(f\"{results_path}_point.pdf\")\n",
    "plt.show()"
   ]
  },
  {
   "cell_type": "code",
   "execution_count": null,
   "metadata": {},
   "outputs": [],
   "source": [
    "plt.figure(figsize=(5,5))\n",
    "plt.plot(depths, lippmann_transform(wavelengths_est, result[pixel], depths, r=params[\"r\"], k0=k0)[0])\n",
    "plt.gca().axhline(0)\n",
    "plt.show()"
   ]
  },
  {
   "cell_type": "code",
   "execution_count": null,
   "metadata": {},
   "outputs": [],
   "source": [
    "spectrum = sp.interpolate.interp1d(omegas_rec, downsampled[pixel], kind='cubic', bounds_error=False, \n",
    "                                   fill_value='extrapolate')(omegas_est)\n",
    "plt.figure(figsize=(5,5))\n",
    "plt.plot(wavelengths_est, spectrum, label=\"true\", c=\"k\")\n",
    "plt.plot(wavelengths_est, np.abs(A @ result[pixel])**2, label=\"estimated\")\n",
    "plt.gca().axhline()\n",
    "print(np.linalg.norm(np.sqrt(spectrum) -  np.abs(A @ result[pixel]))/np.linalg.norm(np.sqrt(spectrum)))\n",
    "plt.legend()\n",
    "plt.show()"
   ]
  },
  {
   "cell_type": "code",
   "execution_count": null,
   "metadata": {},
   "outputs": [],
   "source": [
    "from matplotlib.patches import Rectangle\n",
    "import copy\n",
    "\n",
    "downsampled_no_blue = downsampled * mask[None, None, :]\n",
    "\n",
    "def spectrum_to_rgb(wavelengths, spectrum):\n",
    "    spectrum_xyz = from_spectrum_to_xyz(wavelengths, spectrum, normalize=False)\n",
    "    spectrum_xyz = spectrum_xyz / np.min(np.sum(spectrum_xyz, axis=2))\n",
    "    return from_xyz_to_rgb(spectrum_xyz)\n",
    "\n",
    "no_blue_rgb = spectrum_to_rgb(wavelengths, downsampled_no_blue)\n",
    "recorded_rgb = spectrum_to_rgb(wavelengths, downsampled)\n",
    "estimated_rgb = spectrum_to_rgb(wavelengths_est, result)\n",
    "\n",
    "\n",
    "fig, (ax0, ax1, ax2) = plt.subplots(1, 3, figsize=(10, 5))\n",
    "ax0.imshow(no_blue_rgb)\n",
    "ax1.imshow(recorded_rgb)\n",
    "ax2.imshow(estimated_rgb)\n",
    "ax1.set_title(\"original colors\")\n",
    "ax2.set_title(title)\n",
    "rect = Rectangle((pixel[1] - 0.5, pixel[0] - 0.5), 1, 1, alpha=1, color=\"none\", ec=\"white\", lw=2,zorder=10)\n",
    "rect2 = Rectangle((pixel[1] - 0.5, pixel[0] - 0.5), 1, 1, alpha=1, color=\"none\", ec=\"white\", lw=2,zorder=10)\n",
    "ax1.add_patch(rect)\n",
    "ax2.add_patch(rect2)\n",
    "plt.savefig(f\"{results_path}_low_res.pdf\")\n",
    "plt.show()\n",
    "\n",
    "recorded_rgb[pixel]"
   ]
  },
  {
   "cell_type": "code",
   "execution_count": null,
   "metadata": {},
   "outputs": [],
   "source": [
    "image = io.imread(\"Cubes/\" + name + \".png\")\n",
    "image = np.swapaxes(image[:, ::-1, :3], 1, 0)\n",
    "cut_idx = np.loadtxt(\"Cubes/\" + name + \"_cut.txt\").astype(np.int)\n",
    "image = image[cut_idx[0, 0]:cut_idx[0, 1], cut_idx[1, 0]:cut_idx[1, 1]]\n",
    "# image = image[70:-70, 80:-200]\n",
    "\n",
    "image = exposure.adjust_gamma(image, 0.3)\n",
    "plt.figure(figsize=(5, 5))\n",
    "plt.imshow(image)\n",
    "plt.show()"
   ]
  },
  {
   "cell_type": "code",
   "execution_count": null,
   "metadata": {},
   "outputs": [],
   "source": [
    "recorded_upsampled = upsample_hue_saturation(image, recorded_rgb, order=1)\n",
    "estimated_upsampled = upsample_hue_saturation(image, estimated_rgb, order=1)"
   ]
  },
  {
   "cell_type": "code",
   "execution_count": null,
   "metadata": {},
   "outputs": [],
   "source": [
    "fig, (ax1, ax2) = plt.subplots(1, 2, figsize=(10, 5))\n",
    "ax1.imshow(recorded_upsampled)\n",
    "ax2.imshow(estimated_upsampled)\n",
    "plt.show()"
   ]
  },
  {
   "cell_type": "code",
   "execution_count": null,
   "metadata": {},
   "outputs": [],
   "source": [
    "print(params[\"r\"])\n",
    "new_r = 0.7 * np.exp(1j * np.deg2rad(-148))\n",
    "print(new_r)"
   ]
  },
  {
   "cell_type": "code",
   "execution_count": null,
   "metadata": {},
   "outputs": [],
   "source": [
    "A = recov.generate_matrix_A(omegas_est, Z=5e-6, r=new_r, k0=1)"
   ]
  },
  {
   "cell_type": "code",
   "execution_count": null,
   "metadata": {},
   "outputs": [],
   "source": [
    "fig, (ax1, ax2) = plt.subplots(1, 2, figsize=(6, 3))\n",
    "ax1.matshow(np.real(A))\n",
    "ax2.matshow(np.imag(A))\n",
    "plt.show()"
   ]
  },
  {
   "cell_type": "code",
   "execution_count": null,
   "metadata": {},
   "outputs": [],
   "source": [
    "x = np.linspace(-1, 1, len(wavelengths_est))\n",
    "ex_spectrum = np.exp(-x**2/0.01)"
   ]
  },
  {
   "cell_type": "code",
   "execution_count": null,
   "metadata": {},
   "outputs": [],
   "source": [
    "show_spectrum(wavelengths_est, ex_spectrum, visible=True)"
   ]
  },
  {
   "cell_type": "code",
   "execution_count": null,
   "metadata": {},
   "outputs": [],
   "source": [
    "plt.figure(figsize=(5,5))\n",
    "plt.plot(wavelengths_est, np.abs(A @ ex_spectrum)**2, c=\"r\", label=\"true\")\n",
    "plt.plot(wavelengths_est, np.abs(A.T @ ex_spectrum)**2, label=\"transposed\")\n",
    "plt.legend()\n",
    "plt.show()"
   ]
  },
  {
   "cell_type": "code",
   "execution_count": null,
   "metadata": {},
   "outputs": [],
   "source": []
  }
 ],
 "metadata": {
  "kernelspec": {
   "display_name": "Python 3",
   "language": "python",
   "name": "python3"
  },
  "language_info": {
   "codemirror_mode": {
    "name": "ipython",
    "version": 3
   },
   "file_extension": ".py",
   "mimetype": "text/x-python",
   "name": "python",
   "nbconvert_exporter": "python",
   "pygments_lexer": "ipython3",
   "version": "3.8.5"
  }
 },
 "nbformat": 4,
 "nbformat_minor": 4
}
